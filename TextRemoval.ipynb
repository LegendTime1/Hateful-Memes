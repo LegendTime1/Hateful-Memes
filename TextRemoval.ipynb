{
  "nbformat": 4,
  "nbformat_minor": 0,
  "metadata": {
    "colab": {
      "provenance": [],
      "authorship_tag": "ABX9TyPmOO50KS3gJSBNvWBBPDg2",
      "include_colab_link": true
    },
    "kernelspec": {
      "name": "python3",
      "display_name": "Python 3"
    },
    "language_info": {
      "name": "python"
    }
  },
  "cells": [
    {
      "cell_type": "markdown",
      "metadata": {
        "id": "view-in-github",
        "colab_type": "text"
      },
      "source": [
        "<a href=\"https://colab.research.google.com/github/LegendTime1/Hateful-Memes/blob/main/TextRemoval.ipynb\" target=\"_parent\"><img src=\"https://colab.research.google.com/assets/colab-badge.svg\" alt=\"Open In Colab\"/></a>"
      ]
    },
    {
      "cell_type": "code",
      "source": [
        "!pip install keras-ocr\n"
      ],
      "metadata": {
        "colab": {
          "base_uri": "https://localhost:8080/"
        },
        "id": "Bhto6G_kWdKX",
        "outputId": "919b0e59-ae43-4719-9826-b8df48c7b835"
      },
      "execution_count": 2,
      "outputs": [
        {
          "output_type": "stream",
          "name": "stdout",
          "text": [
            "Collecting keras-ocr\n",
            "  Downloading keras_ocr-0.9.3-py3-none-any.whl (42 kB)\n",
            "\u001b[?25l     \u001b[90m━━━━━━━━━━━━━━━━━━━━━━━━━━━━━━━━━━━━━━━━\u001b[0m \u001b[32m0.0/42.3 kB\u001b[0m \u001b[31m?\u001b[0m eta \u001b[36m-:--:--\u001b[0m\r\u001b[2K     \u001b[90m━━━━━━━━━━━━━━━━━━━━━━━━━━━━━━━━━━━━━━━━\u001b[0m \u001b[32m42.3/42.3 kB\u001b[0m \u001b[31m1.3 MB/s\u001b[0m eta \u001b[36m0:00:00\u001b[0m\n",
            "\u001b[?25hRequirement already satisfied: editdistance in /usr/local/lib/python3.10/dist-packages (from keras-ocr) (0.6.2)\n",
            "Collecting efficientnet==1.0.0 (from keras-ocr)\n",
            "  Downloading efficientnet-1.0.0-py3-none-any.whl (17 kB)\n",
            "Collecting essential_generators (from keras-ocr)\n",
            "  Downloading essential_generators-1.0-py3-none-any.whl (9.5 MB)\n",
            "\u001b[2K     \u001b[90m━━━━━━━━━━━━━━━━━━━━━━━━━━━━━━━━━━━━━━━━\u001b[0m \u001b[32m9.5/9.5 MB\u001b[0m \u001b[31m51.4 MB/s\u001b[0m eta \u001b[36m0:00:00\u001b[0m\n",
            "\u001b[?25hRequirement already satisfied: fonttools in /usr/local/lib/python3.10/dist-packages (from keras-ocr) (4.51.0)\n",
            "Requirement already satisfied: imgaug in /usr/local/lib/python3.10/dist-packages (from keras-ocr) (0.4.0)\n",
            "Collecting pyclipper (from keras-ocr)\n",
            "  Downloading pyclipper-1.3.0.post5-cp310-cp310-manylinux_2_12_x86_64.manylinux2010_x86_64.whl (908 kB)\n",
            "\u001b[2K     \u001b[90m━━━━━━━━━━━━━━━━━━━━━━━━━━━━━━━━━━━━━━━━\u001b[0m \u001b[32m908.3/908.3 kB\u001b[0m \u001b[31m48.0 MB/s\u001b[0m eta \u001b[36m0:00:00\u001b[0m\n",
            "\u001b[?25hRequirement already satisfied: shapely in /usr/local/lib/python3.10/dist-packages (from keras-ocr) (2.0.3)\n",
            "Requirement already satisfied: tqdm in /usr/local/lib/python3.10/dist-packages (from keras-ocr) (4.66.2)\n",
            "Collecting validators (from keras-ocr)\n",
            "  Downloading validators-0.28.0-py3-none-any.whl (39 kB)\n",
            "Collecting keras-applications<=1.0.8,>=1.0.7 (from efficientnet==1.0.0->keras-ocr)\n",
            "  Downloading Keras_Applications-1.0.8-py3-none-any.whl (50 kB)\n",
            "\u001b[2K     \u001b[90m━━━━━━━━━━━━━━━━━━━━━━━━━━━━━━━━━━━━━━━━\u001b[0m \u001b[32m50.7/50.7 kB\u001b[0m \u001b[31m4.8 MB/s\u001b[0m eta \u001b[36m0:00:00\u001b[0m\n",
            "\u001b[?25hRequirement already satisfied: scikit-image in /usr/local/lib/python3.10/dist-packages (from efficientnet==1.0.0->keras-ocr) (0.19.3)\n",
            "Requirement already satisfied: six in /usr/local/lib/python3.10/dist-packages (from imgaug->keras-ocr) (1.16.0)\n",
            "Requirement already satisfied: numpy>=1.15 in /usr/local/lib/python3.10/dist-packages (from imgaug->keras-ocr) (1.25.2)\n",
            "Requirement already satisfied: scipy in /usr/local/lib/python3.10/dist-packages (from imgaug->keras-ocr) (1.11.4)\n",
            "Requirement already satisfied: Pillow in /usr/local/lib/python3.10/dist-packages (from imgaug->keras-ocr) (9.4.0)\n",
            "Requirement already satisfied: matplotlib in /usr/local/lib/python3.10/dist-packages (from imgaug->keras-ocr) (3.7.1)\n",
            "Requirement already satisfied: opencv-python in /usr/local/lib/python3.10/dist-packages (from imgaug->keras-ocr) (4.8.0.76)\n",
            "Requirement already satisfied: imageio in /usr/local/lib/python3.10/dist-packages (from imgaug->keras-ocr) (2.31.6)\n",
            "Requirement already satisfied: h5py in /usr/local/lib/python3.10/dist-packages (from keras-applications<=1.0.8,>=1.0.7->efficientnet==1.0.0->keras-ocr) (3.9.0)\n",
            "Requirement already satisfied: networkx>=2.2 in /usr/local/lib/python3.10/dist-packages (from scikit-image->efficientnet==1.0.0->keras-ocr) (3.3)\n",
            "Requirement already satisfied: tifffile>=2019.7.26 in /usr/local/lib/python3.10/dist-packages (from scikit-image->efficientnet==1.0.0->keras-ocr) (2024.2.12)\n",
            "Requirement already satisfied: PyWavelets>=1.1.1 in /usr/local/lib/python3.10/dist-packages (from scikit-image->efficientnet==1.0.0->keras-ocr) (1.6.0)\n",
            "Requirement already satisfied: packaging>=20.0 in /usr/local/lib/python3.10/dist-packages (from scikit-image->efficientnet==1.0.0->keras-ocr) (24.0)\n",
            "Requirement already satisfied: contourpy>=1.0.1 in /usr/local/lib/python3.10/dist-packages (from matplotlib->imgaug->keras-ocr) (1.2.1)\n",
            "Requirement already satisfied: cycler>=0.10 in /usr/local/lib/python3.10/dist-packages (from matplotlib->imgaug->keras-ocr) (0.12.1)\n",
            "Requirement already satisfied: kiwisolver>=1.0.1 in /usr/local/lib/python3.10/dist-packages (from matplotlib->imgaug->keras-ocr) (1.4.5)\n",
            "Requirement already satisfied: pyparsing>=2.3.1 in /usr/local/lib/python3.10/dist-packages (from matplotlib->imgaug->keras-ocr) (3.1.2)\n",
            "Requirement already satisfied: python-dateutil>=2.7 in /usr/local/lib/python3.10/dist-packages (from matplotlib->imgaug->keras-ocr) (2.8.2)\n",
            "Installing collected packages: pyclipper, essential_generators, validators, keras-applications, efficientnet, keras-ocr\n",
            "Successfully installed efficientnet-1.0.0 essential_generators-1.0 keras-applications-1.0.8 keras-ocr-0.9.3 pyclipper-1.3.0.post5 validators-0.28.0\n"
          ]
        }
      ]
    },
    {
      "cell_type": "code",
      "execution_count": 3,
      "metadata": {
        "id": "bWqSfKR-VuJm"
      },
      "outputs": [],
      "source": [
        "import matplotlib.pyplot as plt\n",
        "import keras_ocr\n",
        "import pandas as pd\n",
        "import cv2\n",
        "import math\n",
        "import numpy as np\n",
        "import tensorflow as tf"
      ]
    },
    {
      "cell_type": "code",
      "source": [
        "from google.colab import drive\n",
        "drive.mount('/content/drive')"
      ],
      "metadata": {
        "colab": {
          "base_uri": "https://localhost:8080/"
        },
        "id": "IMKaLm02WGfv",
        "outputId": "d77369ec-477f-4622-f359-789cac981637"
      },
      "execution_count": 4,
      "outputs": [
        {
          "output_type": "stream",
          "name": "stdout",
          "text": [
            "Mounted at /content/drive\n"
          ]
        }
      ]
    },
    {
      "cell_type": "code",
      "source": [
        "path = \"/content/drive/MyDrive/hateful_memes/\"\n",
        "dev_seen_data= pd.read_json(path+'dev_seen.jsonl',lines=True)\n",
        "dev_unseen_data= pd.read_json(path+'dev_unseen.jsonl',lines=True)\n",
        "test_seen_data=pd.read_json(path+'test_seen.jsonl',lines=True)\n",
        "test_unseen_data=pd.read_json(path+'test_unseen.jsonl',lines=True)\n",
        "train_data=pd.read_json(path+'train.jsonl',lines=True)\n",
        "\n",
        "data = pd.concat([train_data,test_seen_data,test_unseen_data,dev_seen_data,dev_unseen_data])\n",
        "data1 = data.drop_duplicates(subset=['img'])"
      ],
      "metadata": {
        "id": "8IfhJnNPXVSk"
      },
      "execution_count": 5,
      "outputs": []
    },
    {
      "cell_type": "code",
      "source": [
        "data1"
      ],
      "metadata": {
        "colab": {
          "base_uri": "https://localhost:8080/",
          "height": 423
        },
        "id": "oBuQ4N1xXjLq",
        "outputId": "596679ba-85cf-46e9-85f7-f7fa61d44e14"
      },
      "execution_count": null,
      "outputs": [
        {
          "output_type": "execute_result",
          "data": {
            "text/plain": [
              "        id            img  label  \\\n",
              "0    42953  img/42953.png      0   \n",
              "1    23058  img/23058.png      0   \n",
              "2    13894  img/13894.png      0   \n",
              "3    37408  img/37408.png      0   \n",
              "4    82403  img/82403.png      0   \n",
              "..     ...            ...    ...   \n",
              "135  82054  img/82054.png      0   \n",
              "136  13749  img/13749.png      0   \n",
              "137  85067  img/85067.png      0   \n",
              "138  20541  img/20541.png      0   \n",
              "139  60724  img/60724.png      0   \n",
              "\n",
              "                                                  text  \n",
              "0     its their character not their color that matters  \n",
              "1    don't be afraid to love again everyone is not ...  \n",
              "2                             putting bows on your pet  \n",
              "3    i love everything and everybody! except for sq...  \n",
              "4    everybody loves chocolate chip cookies, even h...  \n",
              "..                                                 ...  \n",
              "135                                puzzle level expert  \n",
              "136  it's amazing how animal bodies and the human b...  \n",
              "137              rare image of a worker picking cotton  \n",
              "138               caught me cat and monkey today! this  \n",
              "139  to the black guy reading this meme i am your f...  \n",
              "\n",
              "[12140 rows x 4 columns]"
            ],
            "text/html": [
              "\n",
              "  <div id=\"df-94b5291e-f79e-45a9-97c0-2cc2694508a2\" class=\"colab-df-container\">\n",
              "    <div>\n",
              "<style scoped>\n",
              "    .dataframe tbody tr th:only-of-type {\n",
              "        vertical-align: middle;\n",
              "    }\n",
              "\n",
              "    .dataframe tbody tr th {\n",
              "        vertical-align: top;\n",
              "    }\n",
              "\n",
              "    .dataframe thead th {\n",
              "        text-align: right;\n",
              "    }\n",
              "</style>\n",
              "<table border=\"1\" class=\"dataframe\">\n",
              "  <thead>\n",
              "    <tr style=\"text-align: right;\">\n",
              "      <th></th>\n",
              "      <th>id</th>\n",
              "      <th>img</th>\n",
              "      <th>label</th>\n",
              "      <th>text</th>\n",
              "    </tr>\n",
              "  </thead>\n",
              "  <tbody>\n",
              "    <tr>\n",
              "      <th>0</th>\n",
              "      <td>42953</td>\n",
              "      <td>img/42953.png</td>\n",
              "      <td>0</td>\n",
              "      <td>its their character not their color that matters</td>\n",
              "    </tr>\n",
              "    <tr>\n",
              "      <th>1</th>\n",
              "      <td>23058</td>\n",
              "      <td>img/23058.png</td>\n",
              "      <td>0</td>\n",
              "      <td>don't be afraid to love again everyone is not ...</td>\n",
              "    </tr>\n",
              "    <tr>\n",
              "      <th>2</th>\n",
              "      <td>13894</td>\n",
              "      <td>img/13894.png</td>\n",
              "      <td>0</td>\n",
              "      <td>putting bows on your pet</td>\n",
              "    </tr>\n",
              "    <tr>\n",
              "      <th>3</th>\n",
              "      <td>37408</td>\n",
              "      <td>img/37408.png</td>\n",
              "      <td>0</td>\n",
              "      <td>i love everything and everybody! except for sq...</td>\n",
              "    </tr>\n",
              "    <tr>\n",
              "      <th>4</th>\n",
              "      <td>82403</td>\n",
              "      <td>img/82403.png</td>\n",
              "      <td>0</td>\n",
              "      <td>everybody loves chocolate chip cookies, even h...</td>\n",
              "    </tr>\n",
              "    <tr>\n",
              "      <th>...</th>\n",
              "      <td>...</td>\n",
              "      <td>...</td>\n",
              "      <td>...</td>\n",
              "      <td>...</td>\n",
              "    </tr>\n",
              "    <tr>\n",
              "      <th>135</th>\n",
              "      <td>82054</td>\n",
              "      <td>img/82054.png</td>\n",
              "      <td>0</td>\n",
              "      <td>puzzle level expert</td>\n",
              "    </tr>\n",
              "    <tr>\n",
              "      <th>136</th>\n",
              "      <td>13749</td>\n",
              "      <td>img/13749.png</td>\n",
              "      <td>0</td>\n",
              "      <td>it's amazing how animal bodies and the human b...</td>\n",
              "    </tr>\n",
              "    <tr>\n",
              "      <th>137</th>\n",
              "      <td>85067</td>\n",
              "      <td>img/85067.png</td>\n",
              "      <td>0</td>\n",
              "      <td>rare image of a worker picking cotton</td>\n",
              "    </tr>\n",
              "    <tr>\n",
              "      <th>138</th>\n",
              "      <td>20541</td>\n",
              "      <td>img/20541.png</td>\n",
              "      <td>0</td>\n",
              "      <td>caught me cat and monkey today! this</td>\n",
              "    </tr>\n",
              "    <tr>\n",
              "      <th>139</th>\n",
              "      <td>60724</td>\n",
              "      <td>img/60724.png</td>\n",
              "      <td>0</td>\n",
              "      <td>to the black guy reading this meme i am your f...</td>\n",
              "    </tr>\n",
              "  </tbody>\n",
              "</table>\n",
              "<p>12140 rows × 4 columns</p>\n",
              "</div>\n",
              "    <div class=\"colab-df-buttons\">\n",
              "\n",
              "  <div class=\"colab-df-container\">\n",
              "    <button class=\"colab-df-convert\" onclick=\"convertToInteractive('df-94b5291e-f79e-45a9-97c0-2cc2694508a2')\"\n",
              "            title=\"Convert this dataframe to an interactive table.\"\n",
              "            style=\"display:none;\">\n",
              "\n",
              "  <svg xmlns=\"http://www.w3.org/2000/svg\" height=\"24px\" viewBox=\"0 -960 960 960\">\n",
              "    <path d=\"M120-120v-720h720v720H120Zm60-500h600v-160H180v160Zm220 220h160v-160H400v160Zm0 220h160v-160H400v160ZM180-400h160v-160H180v160Zm440 0h160v-160H620v160ZM180-180h160v-160H180v160Zm440 0h160v-160H620v160Z\"/>\n",
              "  </svg>\n",
              "    </button>\n",
              "\n",
              "  <style>\n",
              "    .colab-df-container {\n",
              "      display:flex;\n",
              "      gap: 12px;\n",
              "    }\n",
              "\n",
              "    .colab-df-convert {\n",
              "      background-color: #E8F0FE;\n",
              "      border: none;\n",
              "      border-radius: 50%;\n",
              "      cursor: pointer;\n",
              "      display: none;\n",
              "      fill: #1967D2;\n",
              "      height: 32px;\n",
              "      padding: 0 0 0 0;\n",
              "      width: 32px;\n",
              "    }\n",
              "\n",
              "    .colab-df-convert:hover {\n",
              "      background-color: #E2EBFA;\n",
              "      box-shadow: 0px 1px 2px rgba(60, 64, 67, 0.3), 0px 1px 3px 1px rgba(60, 64, 67, 0.15);\n",
              "      fill: #174EA6;\n",
              "    }\n",
              "\n",
              "    .colab-df-buttons div {\n",
              "      margin-bottom: 4px;\n",
              "    }\n",
              "\n",
              "    [theme=dark] .colab-df-convert {\n",
              "      background-color: #3B4455;\n",
              "      fill: #D2E3FC;\n",
              "    }\n",
              "\n",
              "    [theme=dark] .colab-df-convert:hover {\n",
              "      background-color: #434B5C;\n",
              "      box-shadow: 0px 1px 3px 1px rgba(0, 0, 0, 0.15);\n",
              "      filter: drop-shadow(0px 1px 2px rgba(0, 0, 0, 0.3));\n",
              "      fill: #FFFFFF;\n",
              "    }\n",
              "  </style>\n",
              "\n",
              "    <script>\n",
              "      const buttonEl =\n",
              "        document.querySelector('#df-94b5291e-f79e-45a9-97c0-2cc2694508a2 button.colab-df-convert');\n",
              "      buttonEl.style.display =\n",
              "        google.colab.kernel.accessAllowed ? 'block' : 'none';\n",
              "\n",
              "      async function convertToInteractive(key) {\n",
              "        const element = document.querySelector('#df-94b5291e-f79e-45a9-97c0-2cc2694508a2');\n",
              "        const dataTable =\n",
              "          await google.colab.kernel.invokeFunction('convertToInteractive',\n",
              "                                                    [key], {});\n",
              "        if (!dataTable) return;\n",
              "\n",
              "        const docLinkHtml = 'Like what you see? Visit the ' +\n",
              "          '<a target=\"_blank\" href=https://colab.research.google.com/notebooks/data_table.ipynb>data table notebook</a>'\n",
              "          + ' to learn more about interactive tables.';\n",
              "        element.innerHTML = '';\n",
              "        dataTable['output_type'] = 'display_data';\n",
              "        await google.colab.output.renderOutput(dataTable, element);\n",
              "        const docLink = document.createElement('div');\n",
              "        docLink.innerHTML = docLinkHtml;\n",
              "        element.appendChild(docLink);\n",
              "      }\n",
              "    </script>\n",
              "  </div>\n",
              "\n",
              "\n",
              "<div id=\"df-a14583d9-29ec-47fe-ad12-b7833ad8a983\">\n",
              "  <button class=\"colab-df-quickchart\" onclick=\"quickchart('df-a14583d9-29ec-47fe-ad12-b7833ad8a983')\"\n",
              "            title=\"Suggest charts\"\n",
              "            style=\"display:none;\">\n",
              "\n",
              "<svg xmlns=\"http://www.w3.org/2000/svg\" height=\"24px\"viewBox=\"0 0 24 24\"\n",
              "     width=\"24px\">\n",
              "    <g>\n",
              "        <path d=\"M19 3H5c-1.1 0-2 .9-2 2v14c0 1.1.9 2 2 2h14c1.1 0 2-.9 2-2V5c0-1.1-.9-2-2-2zM9 17H7v-7h2v7zm4 0h-2V7h2v10zm4 0h-2v-4h2v4z\"/>\n",
              "    </g>\n",
              "</svg>\n",
              "  </button>\n",
              "\n",
              "<style>\n",
              "  .colab-df-quickchart {\n",
              "      --bg-color: #E8F0FE;\n",
              "      --fill-color: #1967D2;\n",
              "      --hover-bg-color: #E2EBFA;\n",
              "      --hover-fill-color: #174EA6;\n",
              "      --disabled-fill-color: #AAA;\n",
              "      --disabled-bg-color: #DDD;\n",
              "  }\n",
              "\n",
              "  [theme=dark] .colab-df-quickchart {\n",
              "      --bg-color: #3B4455;\n",
              "      --fill-color: #D2E3FC;\n",
              "      --hover-bg-color: #434B5C;\n",
              "      --hover-fill-color: #FFFFFF;\n",
              "      --disabled-bg-color: #3B4455;\n",
              "      --disabled-fill-color: #666;\n",
              "  }\n",
              "\n",
              "  .colab-df-quickchart {\n",
              "    background-color: var(--bg-color);\n",
              "    border: none;\n",
              "    border-radius: 50%;\n",
              "    cursor: pointer;\n",
              "    display: none;\n",
              "    fill: var(--fill-color);\n",
              "    height: 32px;\n",
              "    padding: 0;\n",
              "    width: 32px;\n",
              "  }\n",
              "\n",
              "  .colab-df-quickchart:hover {\n",
              "    background-color: var(--hover-bg-color);\n",
              "    box-shadow: 0 1px 2px rgba(60, 64, 67, 0.3), 0 1px 3px 1px rgba(60, 64, 67, 0.15);\n",
              "    fill: var(--button-hover-fill-color);\n",
              "  }\n",
              "\n",
              "  .colab-df-quickchart-complete:disabled,\n",
              "  .colab-df-quickchart-complete:disabled:hover {\n",
              "    background-color: var(--disabled-bg-color);\n",
              "    fill: var(--disabled-fill-color);\n",
              "    box-shadow: none;\n",
              "  }\n",
              "\n",
              "  .colab-df-spinner {\n",
              "    border: 2px solid var(--fill-color);\n",
              "    border-color: transparent;\n",
              "    border-bottom-color: var(--fill-color);\n",
              "    animation:\n",
              "      spin 1s steps(1) infinite;\n",
              "  }\n",
              "\n",
              "  @keyframes spin {\n",
              "    0% {\n",
              "      border-color: transparent;\n",
              "      border-bottom-color: var(--fill-color);\n",
              "      border-left-color: var(--fill-color);\n",
              "    }\n",
              "    20% {\n",
              "      border-color: transparent;\n",
              "      border-left-color: var(--fill-color);\n",
              "      border-top-color: var(--fill-color);\n",
              "    }\n",
              "    30% {\n",
              "      border-color: transparent;\n",
              "      border-left-color: var(--fill-color);\n",
              "      border-top-color: var(--fill-color);\n",
              "      border-right-color: var(--fill-color);\n",
              "    }\n",
              "    40% {\n",
              "      border-color: transparent;\n",
              "      border-right-color: var(--fill-color);\n",
              "      border-top-color: var(--fill-color);\n",
              "    }\n",
              "    60% {\n",
              "      border-color: transparent;\n",
              "      border-right-color: var(--fill-color);\n",
              "    }\n",
              "    80% {\n",
              "      border-color: transparent;\n",
              "      border-right-color: var(--fill-color);\n",
              "      border-bottom-color: var(--fill-color);\n",
              "    }\n",
              "    90% {\n",
              "      border-color: transparent;\n",
              "      border-bottom-color: var(--fill-color);\n",
              "    }\n",
              "  }\n",
              "</style>\n",
              "\n",
              "  <script>\n",
              "    async function quickchart(key) {\n",
              "      const quickchartButtonEl =\n",
              "        document.querySelector('#' + key + ' button');\n",
              "      quickchartButtonEl.disabled = true;  // To prevent multiple clicks.\n",
              "      quickchartButtonEl.classList.add('colab-df-spinner');\n",
              "      try {\n",
              "        const charts = await google.colab.kernel.invokeFunction(\n",
              "            'suggestCharts', [key], {});\n",
              "      } catch (error) {\n",
              "        console.error('Error during call to suggestCharts:', error);\n",
              "      }\n",
              "      quickchartButtonEl.classList.remove('colab-df-spinner');\n",
              "      quickchartButtonEl.classList.add('colab-df-quickchart-complete');\n",
              "    }\n",
              "    (() => {\n",
              "      let quickchartButtonEl =\n",
              "        document.querySelector('#df-a14583d9-29ec-47fe-ad12-b7833ad8a983 button');\n",
              "      quickchartButtonEl.style.display =\n",
              "        google.colab.kernel.accessAllowed ? 'block' : 'none';\n",
              "    })();\n",
              "  </script>\n",
              "</div>\n",
              "\n",
              "  <div id=\"id_7c82cbdc-6993-4936-b0f5-ebddf26054b6\">\n",
              "    <style>\n",
              "      .colab-df-generate {\n",
              "        background-color: #E8F0FE;\n",
              "        border: none;\n",
              "        border-radius: 50%;\n",
              "        cursor: pointer;\n",
              "        display: none;\n",
              "        fill: #1967D2;\n",
              "        height: 32px;\n",
              "        padding: 0 0 0 0;\n",
              "        width: 32px;\n",
              "      }\n",
              "\n",
              "      .colab-df-generate:hover {\n",
              "        background-color: #E2EBFA;\n",
              "        box-shadow: 0px 1px 2px rgba(60, 64, 67, 0.3), 0px 1px 3px 1px rgba(60, 64, 67, 0.15);\n",
              "        fill: #174EA6;\n",
              "      }\n",
              "\n",
              "      [theme=dark] .colab-df-generate {\n",
              "        background-color: #3B4455;\n",
              "        fill: #D2E3FC;\n",
              "      }\n",
              "\n",
              "      [theme=dark] .colab-df-generate:hover {\n",
              "        background-color: #434B5C;\n",
              "        box-shadow: 0px 1px 3px 1px rgba(0, 0, 0, 0.15);\n",
              "        filter: drop-shadow(0px 1px 2px rgba(0, 0, 0, 0.3));\n",
              "        fill: #FFFFFF;\n",
              "      }\n",
              "    </style>\n",
              "    <button class=\"colab-df-generate\" onclick=\"generateWithVariable('data1')\"\n",
              "            title=\"Generate code using this dataframe.\"\n",
              "            style=\"display:none;\">\n",
              "\n",
              "  <svg xmlns=\"http://www.w3.org/2000/svg\" height=\"24px\"viewBox=\"0 0 24 24\"\n",
              "       width=\"24px\">\n",
              "    <path d=\"M7,19H8.4L18.45,9,17,7.55,7,17.6ZM5,21V16.75L18.45,3.32a2,2,0,0,1,2.83,0l1.4,1.43a1.91,1.91,0,0,1,.58,1.4,1.91,1.91,0,0,1-.58,1.4L9.25,21ZM18.45,9,17,7.55Zm-12,3A5.31,5.31,0,0,0,4.9,8.1,5.31,5.31,0,0,0,1,6.5,5.31,5.31,0,0,0,4.9,4.9,5.31,5.31,0,0,0,6.5,1,5.31,5.31,0,0,0,8.1,4.9,5.31,5.31,0,0,0,12,6.5,5.46,5.46,0,0,0,6.5,12Z\"/>\n",
              "  </svg>\n",
              "    </button>\n",
              "    <script>\n",
              "      (() => {\n",
              "      const buttonEl =\n",
              "        document.querySelector('#id_7c82cbdc-6993-4936-b0f5-ebddf26054b6 button.colab-df-generate');\n",
              "      buttonEl.style.display =\n",
              "        google.colab.kernel.accessAllowed ? 'block' : 'none';\n",
              "\n",
              "      buttonEl.onclick = () => {\n",
              "        google.colab.notebook.generateWithVariable('data1');\n",
              "      }\n",
              "      })();\n",
              "    </script>\n",
              "  </div>\n",
              "\n",
              "    </div>\n",
              "  </div>\n"
            ],
            "application/vnd.google.colaboratory.intrinsic+json": {
              "type": "dataframe",
              "variable_name": "data1",
              "summary": "{\n  \"name\": \"data1\",\n  \"rows\": 12140,\n  \"fields\": [\n    {\n      \"column\": \"id\",\n      \"properties\": {\n        \"dtype\": \"number\",\n        \"std\": 28561,\n        \"min\": 1235,\n        \"max\": 98764,\n        \"num_unique_values\": 12140,\n        \"samples\": [\n          7319,\n          31905,\n          81394\n        ],\n        \"semantic_type\": \"\",\n        \"description\": \"\"\n      }\n    },\n    {\n      \"column\": \"img\",\n      \"properties\": {\n        \"dtype\": \"string\",\n        \"num_unique_values\": 12140,\n        \"samples\": [\n          \"img/07319.png\",\n          \"img/31905.png\",\n          \"img/81394.png\"\n        ],\n        \"semantic_type\": \"\",\n        \"description\": \"\"\n      }\n    },\n    {\n      \"column\": \"label\",\n      \"properties\": {\n        \"dtype\": \"number\",\n        \"std\": 0,\n        \"min\": 0,\n        \"max\": 1,\n        \"num_unique_values\": 2,\n        \"samples\": [\n          1,\n          0\n        ],\n        \"semantic_type\": \"\",\n        \"description\": \"\"\n      }\n    },\n    {\n      \"column\": \"text\",\n      \"properties\": {\n        \"dtype\": \"string\",\n        \"num_unique_values\": 9034,\n        \"samples\": [\n          \"jihadi magazine's miss december\",\n          \"the white wine made me do it\"\n        ],\n        \"semantic_type\": \"\",\n        \"description\": \"\"\n      }\n    }\n  ]\n}"
            }
          },
          "metadata": {},
          "execution_count": 8
        }
      ]
    },
    {
      "cell_type": "code",
      "source": [
        "pipeline = keras_ocr.pipeline.Pipeline()\n",
        "#read image from the an image path (a jpg/png file or an image url)\n",
        "image_path = path + 'img/42953.png'\n",
        "img = keras_ocr.tools.read(image_path)\n",
        "# Prediction_groups is a list of (word, box) tuples\n",
        "prediction_groups = pipeline.recognize([img])\n",
        "#print image with annotation and boxes\n",
        "keras_ocr.tools.drawAnnotations(image=img, predictions=prediction_groups[0])"
      ],
      "metadata": {
        "colab": {
          "base_uri": "https://localhost:8080/",
          "height": 615
        },
        "id": "csnzclIeWEgH",
        "outputId": "2f9ad407-471c-49c2-fe2a-58f2e826aa89"
      },
      "execution_count": null,
      "outputs": [
        {
          "output_type": "stream",
          "name": "stdout",
          "text": [
            "Looking for /root/.keras-ocr/craft_mlt_25k.h5\n",
            "Downloading /root/.keras-ocr/craft_mlt_25k.h5\n"
          ]
        },
        {
          "output_type": "stream",
          "name": "stderr",
          "text": [
            "WARNING:tensorflow:From /usr/local/lib/python3.10/dist-packages/tensorflow/python/util/dispatch.py:1260: resize_bilinear (from tensorflow.python.ops.image_ops_impl) is deprecated and will be removed in a future version.\n",
            "Instructions for updating:\n",
            "Use `tf.image.resize(...method=ResizeMethod.BILINEAR...)` instead.\n"
          ]
        },
        {
          "output_type": "stream",
          "name": "stdout",
          "text": [
            "Looking for /root/.keras-ocr/crnn_kurapan.h5\n",
            "Downloading /root/.keras-ocr/crnn_kurapan.h5\n",
            "1/1 [==============================] - 8s 8s/step\n",
            "1/1 [==============================] - 4s 4s/step\n"
          ]
        },
        {
          "output_type": "execute_result",
          "data": {
            "text/plain": [
              "<Axes: >"
            ]
          },
          "metadata": {},
          "execution_count": 7
        },
        {
          "output_type": "display_data",
          "data": {
            "text/plain": [
              "<Figure size 640x480 with 1 Axes>"
            ],
            "image/png": "[encoded data removed]"
          },
          "metadata": {}
        }
      ]
    },
    {
      "cell_type": "code",
      "source": [
        "prediction_groups[0][1]"
      ],
      "metadata": {
        "colab": {
          "base_uri": "https://localhost:8080/"
        },
        "id": "45EblkdjZD_a",
        "outputId": "d82a538b-51d4-43bf-de40-f51385f818c8"
      },
      "execution_count": null,
      "outputs": [
        {
          "output_type": "execute_result",
          "data": {
            "text/plain": [
              "('their',\n",
              " array([[ 46.469856,  14.565489],\n",
              "        [118.74947 ,  12.233889],\n",
              "        [119.61538 ,  39.07692 ],\n",
              "        [ 47.335762,  41.408524]], dtype=float32))"
            ]
          },
          "metadata": {},
          "execution_count": 8
        }
      ]
    },
    {
      "cell_type": "code",
      "source": [
        "# @tf.function(input_signature=(tf.TensorSpec(shape=[None], dtype=tf.int32),))\n",
        "# def next_collatz(x):\n",
        "#   print(\"Tracing with\", x)\n",
        "#   return tf.where(x % 2 == 0, x // 2, 3 * x + 1)\n",
        "\n",
        "# print(next_collatz(tf.constant([1, 2])))\n",
        "# # You specified a 1-D tensor in the input signature, so this should fail.\n",
        "# with assert_raises(TypeError):\n",
        "#   next_collatz(tf.constant([[1, 2], [3, 4]]))\n",
        "\n",
        "# # You specified an int32 dtype in the input signature, so this should fail.\n",
        "# with assert_raises(TypeError):\n",
        "#   next_collatz(tf.constant([1.0, 2.0]))"
      ],
      "metadata": {
        "id": "vzTcqturc09c"
      },
      "execution_count": null,
      "outputs": []
    },
    {
      "cell_type": "code",
      "source": [
        "\n",
        "#Function to remove text from image and save the new image\n",
        "\n",
        "def midpoint(x1, y1, x2, y2):\n",
        "    x_mid = int((x1 + x2)/2)\n",
        "    y_mid = int((y1 + y2)/2)\n",
        "    return (x_mid, y_mid)\n",
        "\n",
        "\n",
        "def inpaint_text(path,relative_Img_path):\n",
        "\n",
        "    pipeline = keras_ocr.pipeline.Pipeline()\n",
        "    img_path = path + relative_Img_path\n",
        "    # read image\n",
        "    img = keras_ocr.tools.read(img_path)\n",
        "    # generate (word, box) tuples\n",
        "    prediction_groups = pipeline.recognize([img])\n",
        "    mask = np.zeros(img.shape[:2], dtype=\"uint8\")\n",
        "    for box in prediction_groups[0]:\n",
        "        x0, y0 = box[1][0]\n",
        "        x1, y1 = box[1][1]\n",
        "        x2, y2 = box[1][2]\n",
        "        x3, y3 = box[1][3]\n",
        "\n",
        "        x_mid0, y_mid0 = midpoint(x1, y1, x2, y2)\n",
        "        x_mid1, y_mi1 = midpoint(x0, y0, x3, y3)\n",
        "\n",
        "        thickness = int(math.sqrt( (x2 - x1)**2 + (y2 - y1)**2 ))\n",
        "\n",
        "        cv2.line(mask, (x_mid0, y_mid0), (x_mid1, y_mi1), 255,\n",
        "        thickness)\n",
        "        img = cv2.inpaint(img, mask, 7, cv2.INPAINT_NS)\n",
        "        save_path = '/content/drive/MyDrive/Text_removed/' + relative_Img_path\n",
        "        cv2.imwrite(save_path, cv2.cvtColor(img, cv2.COLOR_RGB2BGR))\n",
        "\n",
        "    return(img)"
      ],
      "metadata": {
        "id": "BIXzUtzma-xj"
      },
      "execution_count": 11,
      "outputs": []
    },
    {
      "cell_type": "code",
      "source": [
        "image_path = path\n",
        "relative_img_path = 'img/01235.png'\n",
        "inpaint_text(image_path, relative_img_path)"
      ],
      "metadata": {
        "colab": {
          "base_uri": "https://localhost:8080/",
          "height": 476
        },
        "id": "_-i1IaNebgVu",
        "outputId": "117e20a4-7d2a-416b-823e-6b726b9329bc"
      },
      "execution_count": 12,
      "outputs": [
        {
          "output_type": "stream",
          "name": "stdout",
          "text": [
            "Looking for /root/.keras-ocr/craft_mlt_25k.h5\n",
            "Looking for /root/.keras-ocr/crnn_kurapan.h5\n",
            "1/1 [==============================] - 13s 13s/step\n",
            "1/1 [==============================] - 8s 8s/step\n"
          ]
        },
        {
          "output_type": "execute_result",
          "data": {
            "text/plain": [
              "array([[[  0,   0,   0],\n",
              "        [ 54,  56,  57],\n",
              "        [ 61,  63,  64],\n",
              "        ...,\n",
              "        [ 62,  64,  64],\n",
              "        [ 56,  58,  57],\n",
              "        [  0,   0,   0]],\n",
              "\n",
              "       [[  0,   0,   0],\n",
              "        [184, 191, 192],\n",
              "        [207, 213, 216],\n",
              "        ...,\n",
              "        [212, 218, 216],\n",
              "        [190, 195, 194],\n",
              "        [  0,   0,   0]],\n",
              "\n",
              "       [[  0,   0,   0],\n",
              "        [185, 191, 192],\n",
              "        [208, 215, 216],\n",
              "        ...,\n",
              "        [214, 218, 217],\n",
              "        [192, 195, 194],\n",
              "        [  0,   0,   0]],\n",
              "\n",
              "       ...,\n",
              "\n",
              "       [[  0,   0,   0],\n",
              "        [191, 157, 142],\n",
              "        [214, 176, 159],\n",
              "        ...,\n",
              "        [221, 185, 166],\n",
              "        [198, 165, 148],\n",
              "        [  0,   0,   0]],\n",
              "\n",
              "       [[  0,   0,   0],\n",
              "        [191, 156, 141],\n",
              "        [214, 175, 158],\n",
              "        ...,\n",
              "        [221, 184, 165],\n",
              "        [198, 164, 147],\n",
              "        [  0,   0,   0]],\n",
              "\n",
              "       [[  0,   0,   0],\n",
              "        [110,  90,  81],\n",
              "        [123, 101,  91],\n",
              "        ...,\n",
              "        [127, 106,  95],\n",
              "        [114,  95,  85],\n",
              "        [  0,   0,   0]]], dtype=uint8)"
            ],
            "text/html": [
              "<style>\n",
              "      .ndarray_repr .ndarray_raw_data {\n",
              "        display: none;\n",
              "      }\n",
              "      .ndarray_repr.show_array .ndarray_raw_data {\n",
              "        display: block;\n",
              "      }\n",
              "      .ndarray_repr.show_array .ndarray_image_preview {\n",
              "        display: none;\n",
              "      }\n",
              "      </style>\n",
              "      <div id=\"id-a5a03fad-dbdf-4d0c-b6ca-a03036739185\" class=\"ndarray_repr\"><pre>ndarray (366, 550, 3) <button style=\"padding: 0 2px;\">show data</button></pre><img src=\"data:image/png;base64,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\" class=\"ndarray_image_preview\" /><pre class=\"ndarray_raw_data\">array([[[  0,   0,   0],\n",
              "        [ 54,  56,  57],\n",
              "        [ 61,  63,  64],\n",
              "        ...,\n",
              "        [ 62,  64,  64],\n",
              "        [ 56,  58,  57],\n",
              "        [  0,   0,   0]],\n",
              "\n",
              "       [[  0,   0,   0],\n",
              "        [184, 191, 192],\n",
              "        [207, 213, 216],\n",
              "        ...,\n",
              "        [212, 218, 216],\n",
              "        [190, 195, 194],\n",
              "        [  0,   0,   0]],\n",
              "\n",
              "       [[  0,   0,   0],\n",
              "        [185, 191, 192],\n",
              "        [208, 215, 216],\n",
              "        ...,\n",
              "        [214, 218, 217],\n",
              "        [192, 195, 194],\n",
              "        [  0,   0,   0]],\n",
              "\n",
              "       ...,\n",
              "\n",
              "       [[  0,   0,   0],\n",
              "        [191, 157, 142],\n",
              "        [214, 176, 159],\n",
              "        ...,\n",
              "        [221, 185, 166],\n",
              "        [198, 165, 148],\n",
              "        [  0,   0,   0]],\n",
              "\n",
              "       [[  0,   0,   0],\n",
              "        [191, 156, 141],\n",
              "        [214, 175, 158],\n",
              "        ...,\n",
              "        [221, 184, 165],\n",
              "        [198, 164, 147],\n",
              "        [  0,   0,   0]],\n",
              "\n",
              "       [[  0,   0,   0],\n",
              "        [110,  90,  81],\n",
              "        [123, 101,  91],\n",
              "        ...,\n",
              "        [127, 106,  95],\n",
              "        [114,  95,  85],\n",
              "        [  0,   0,   0]]], dtype=uint8)</pre></div><script>\n",
              "      (() => {\n",
              "      const titles = ['show data', 'hide data'];\n",
              "      let index = 0\n",
              "      document.querySelector('#id-a5a03fad-dbdf-4d0c-b6ca-a03036739185 button').onclick = (e) => {\n",
              "        document.querySelector('#id-a5a03fad-dbdf-4d0c-b6ca-a03036739185').classList.toggle('show_array');\n",
              "        index = (++index) % 2;\n",
              "        document.querySelector('#id-a5a03fad-dbdf-4d0c-b6ca-a03036739185 button').textContent = titles[index];\n",
              "        e.preventDefault();\n",
              "        e.stopPropagation();\n",
              "      }\n",
              "      })();\n",
              "    </script>"
            ]
          },
          "metadata": {},
          "execution_count": 12
        }
      ]
    },
    {
      "cell_type": "code",
      "source": [
        "count = 101"
      ],
      "metadata": {
        "id": "Nk7wvXZ6xQMD"
      },
      "execution_count": 31,
      "outputs": []
    },
    {
      "cell_type": "code",
      "source": [
        "image_path = path\n",
        "for each in data1['img']:\n",
        "  print(each)\n",
        "  print(count)\n",
        "  inpaint_text(image_path, each)\n",
        "  count -=1\n",
        "  if count <=0:\n",
        "    break\n"
      ],
      "metadata": {
        "colab": {
          "base_uri": "https://localhost:8080/"
        },
        "id": "S14i9bdrMIYt",
        "outputId": "70420965-c51f-41c7-d75d-a56bb8f9b233"
      },
      "execution_count": 14,
      "outputs": [
        {
          "output_type": "stream",
          "name": "stdout",
          "text": [
            "img/42953.png\n",
            "101\n",
            "Looking for /root/.keras-ocr/craft_mlt_25k.h5\n",
            "Looking for /root/.keras-ocr/crnn_kurapan.h5\n",
            "1/1 [==============================] - 7s 7s/step\n",
            "1/1 [==============================] - 5s 5s/step\n",
            "img/23058.png\n",
            "100\n",
            "Looking for /root/.keras-ocr/craft_mlt_25k.h5\n",
            "Looking for /root/.keras-ocr/crnn_kurapan.h5\n",
            "1/1 [==============================] - 31s 31s/step\n",
            "1/1 [==============================] - 7s 7s/step\n",
            "img/13894.png\n",
            "99\n",
            "Looking for /root/.keras-ocr/craft_mlt_25k.h5\n",
            "Looking for /root/.keras-ocr/crnn_kurapan.h5\n",
            "1/1 [==============================] - 29s 29s/step\n",
            "1/1 [==============================] - 3s 3s/step\n",
            "img/37408.png\n",
            "98\n",
            "Looking for /root/.keras-ocr/craft_mlt_25k.h5\n",
            "Looking for /root/.keras-ocr/crnn_kurapan.h5\n",
            "1/1 [==============================] - 35s 35s/step\n",
            "1/1 [==============================] - 6s 6s/step\n",
            "img/82403.png\n",
            "97\n",
            "Looking for /root/.keras-ocr/craft_mlt_25k.h5\n",
            "Looking for /root/.keras-ocr/crnn_kurapan.h5\n",
            "1/1 [==============================] - 15s 15s/step\n",
            "1/1 [==============================] - 6s 6s/step\n",
            "img/16952.png\n",
            "96\n",
            "Looking for /root/.keras-ocr/craft_mlt_25k.h5\n",
            "Looking for /root/.keras-ocr/crnn_kurapan.h5\n",
            "1/1 [==============================] - 12s 12s/step\n",
            "1/1 [==============================] - 5s 5s/step\n",
            "img/76932.png\n",
            "95\n",
            "Looking for /root/.keras-ocr/craft_mlt_25k.h5\n",
            "Looking for /root/.keras-ocr/crnn_kurapan.h5\n",
            "1/1 [==============================] - 28s 28s/step\n",
            "1/1 [==============================] - 6s 6s/step\n",
            "img/70914.png\n",
            "94\n",
            "Looking for /root/.keras-ocr/craft_mlt_25k.h5\n",
            "Looking for /root/.keras-ocr/crnn_kurapan.h5\n",
            "1/1 [==============================] - 34s 34s/step\n",
            "1/1 [==============================] - 8s 8s/step\n",
            "img/02973.png\n",
            "93\n",
            "Looking for /root/.keras-ocr/craft_mlt_25k.h5\n",
            "Looking for /root/.keras-ocr/crnn_kurapan.h5\n",
            "1/1 [==============================] - 14s 14s/step\n",
            "1/1 [==============================] - 4s 4s/step\n",
            "img/58306.png\n",
            "92\n",
            "Looking for /root/.keras-ocr/craft_mlt_25k.h5\n",
            "Looking for /root/.keras-ocr/crnn_kurapan.h5\n",
            "1/1 [==============================] - 8s 8s/step\n",
            "1/1 [==============================] - 9s 9s/step\n",
            "img/79351.png\n",
            "91\n",
            "Looking for /root/.keras-ocr/craft_mlt_25k.h5\n",
            "Looking for /root/.keras-ocr/crnn_kurapan.h5\n",
            "1/1 [==============================] - 8s 8s/step\n",
            "1/1 [==============================] - 4s 4s/step\n",
            "img/34096.png\n",
            "90\n",
            "Looking for /root/.keras-ocr/craft_mlt_25k.h5\n",
            "Looking for /root/.keras-ocr/crnn_kurapan.h5\n",
            "1/1 [==============================] - 34s 34s/step\n",
            "1/1 [==============================] - 5s 5s/step\n",
            "img/25489.png\n",
            "89\n",
            "Looking for /root/.keras-ocr/craft_mlt_25k.h5\n",
            "Looking for /root/.keras-ocr/crnn_kurapan.h5\n",
            "1/1 [==============================] - 29s 29s/step\n",
            "1/1 [==============================] - 5s 5s/step\n",
            "img/19324.png\n",
            "88\n",
            "Looking for /root/.keras-ocr/craft_mlt_25k.h5\n",
            "Looking for /root/.keras-ocr/crnn_kurapan.h5\n",
            "1/1 [==============================] - 15s 15s/step\n",
            "1/1 [==============================] - 8s 8s/step\n",
            "img/79346.png\n",
            "87\n",
            "Looking for /root/.keras-ocr/craft_mlt_25k.h5\n",
            "Looking for /root/.keras-ocr/crnn_kurapan.h5\n",
            "1/1 [==============================] - 31s 31s/step\n",
            "1/1 [==============================] - 8s 8s/step\n",
            "img/13426.png\n",
            "86\n",
            "Looking for /root/.keras-ocr/craft_mlt_25k.h5\n",
            "Looking for /root/.keras-ocr/crnn_kurapan.h5\n",
            "1/1 [==============================] - 13s 13s/step\n",
            "1/1 [==============================] - 4s 4s/step\n",
            "img/97628.png\n",
            "85\n",
            "Looking for /root/.keras-ocr/craft_mlt_25k.h5\n",
            "Looking for /root/.keras-ocr/crnn_kurapan.h5\n",
            "1/1 [==============================] - 27s 27s/step\n",
            "1/1 [==============================] - 6s 6s/step\n",
            "img/14238.png\n",
            "84\n",
            "Looking for /root/.keras-ocr/craft_mlt_25k.h5\n",
            "Looking for /root/.keras-ocr/crnn_kurapan.h5\n",
            "1/1 [==============================] - 9s 9s/step\n",
            "1/1 [==============================] - 4s 4s/step\n",
            "img/28936.png\n",
            "83\n",
            "Looking for /root/.keras-ocr/craft_mlt_25k.h5\n",
            "Looking for /root/.keras-ocr/crnn_kurapan.h5\n",
            "1/1 [==============================] - 15s 15s/step\n",
            "1/1 [==============================] - 6s 6s/step\n",
            "img/59784.png\n",
            "82\n",
            "Looking for /root/.keras-ocr/craft_mlt_25k.h5\n",
            "Looking for /root/.keras-ocr/crnn_kurapan.h5\n",
            "1/1 [==============================] - 32s 32s/step\n",
            "1/1 [==============================] - 8s 8s/step\n",
            "img/02146.png\n",
            "81\n",
            "Looking for /root/.keras-ocr/craft_mlt_25k.h5\n",
            "Looking for /root/.keras-ocr/crnn_kurapan.h5\n",
            "1/1 [==============================] - 27s 27s/step\n",
            "1/1 [==============================] - 6s 6s/step\n",
            "img/70146.png\n",
            "80\n",
            "Looking for /root/.keras-ocr/craft_mlt_25k.h5\n",
            "Looking for /root/.keras-ocr/crnn_kurapan.h5\n",
            "1/1 [==============================] - 26s 26s/step\n",
            "1/1 [==============================] - 9s 9s/step\n",
            "img/28061.png\n",
            "79\n",
            "Looking for /root/.keras-ocr/craft_mlt_25k.h5\n",
            "Looking for /root/.keras-ocr/crnn_kurapan.h5\n",
            "1/1 [==============================] - 36s 36s/step\n",
            "1/1 [==============================] - 4s 4s/step\n",
            "img/97180.png\n",
            "78\n",
            "Looking for /root/.keras-ocr/craft_mlt_25k.h5\n",
            "Looking for /root/.keras-ocr/crnn_kurapan.h5\n",
            "1/1 [==============================] - 14s 14s/step\n",
            "1/1 [==============================] - 4s 4s/step\n",
            "img/49752.png\n",
            "77\n",
            "Looking for /root/.keras-ocr/craft_mlt_25k.h5\n",
            "Looking for /root/.keras-ocr/crnn_kurapan.h5\n",
            "1/1 [==============================] - 34s 34s/step\n",
            "1/1 [==============================] - 5s 5s/step\n",
            "img/25610.png\n",
            "76\n",
            "Looking for /root/.keras-ocr/craft_mlt_25k.h5\n",
            "Looking for /root/.keras-ocr/crnn_kurapan.h5\n",
            "1/1 [==============================] - 30s 30s/step\n",
            "1/1 [==============================] - 4s 4s/step\n",
            "img/15872.png\n",
            "75\n",
            "Looking for /root/.keras-ocr/craft_mlt_25k.h5\n",
            "Looking for /root/.keras-ocr/crnn_kurapan.h5\n",
            "1/1 [==============================] - 30s 30s/step\n",
            "1/1 [==============================] - 7s 7s/step\n",
            "img/72640.png\n",
            "74\n",
            "Looking for /root/.keras-ocr/craft_mlt_25k.h5\n",
            "Looking for /root/.keras-ocr/crnn_kurapan.h5\n",
            "1/1 [==============================] - 28s 28s/step\n",
            "2/2 [==============================] - 16s 3s/step\n",
            "img/64318.png\n",
            "73\n",
            "Looking for /root/.keras-ocr/craft_mlt_25k.h5\n",
            "Looking for /root/.keras-ocr/crnn_kurapan.h5\n",
            "1/1 [==============================] - 8s 8s/step\n",
            "1/1 [==============================] - 5s 5s/step\n",
            "img/17956.png\n",
            "72\n",
            "Looking for /root/.keras-ocr/craft_mlt_25k.h5\n",
            "Looking for /root/.keras-ocr/crnn_kurapan.h5\n",
            "1/1 [==============================] - 30s 30s/step\n",
            "1/1 [==============================] - 7s 7s/step\n",
            "img/93547.png\n",
            "71\n",
            "Looking for /root/.keras-ocr/craft_mlt_25k.h5\n",
            "Looking for /root/.keras-ocr/crnn_kurapan.h5\n",
            "1/1 [==============================] - 14s 14s/step\n",
            "1/1 [==============================] - 8s 8s/step\n",
            "img/10743.png\n",
            "70\n",
            "Looking for /root/.keras-ocr/craft_mlt_25k.h5\n",
            "Looking for /root/.keras-ocr/crnn_kurapan.h5\n",
            "1/1 [==============================] - 37s 37s/step\n",
            "1/1 [==============================] - 6s 6s/step\n",
            "img/37091.png\n",
            "69\n",
            "Looking for /root/.keras-ocr/craft_mlt_25k.h5\n",
            "Looking for /root/.keras-ocr/crnn_kurapan.h5\n",
            "1/1 [==============================] - 30s 30s/step\n",
            "1/1 [==============================] - 4s 4s/step\n",
            "img/25719.png\n",
            "68\n",
            "Looking for /root/.keras-ocr/craft_mlt_25k.h5\n",
            "Looking for /root/.keras-ocr/crnn_kurapan.h5\n",
            "1/1 [==============================] - 16s 16s/step\n",
            "1/1 [==============================] - 4s 4s/step\n",
            "img/76825.png\n",
            "67\n",
            "Looking for /root/.keras-ocr/craft_mlt_25k.h5\n",
            "Looking for /root/.keras-ocr/crnn_kurapan.h5\n",
            "1/1 [==============================] - 14s 14s/step\n",
            "1/1 [==============================] - 7s 7s/step\n",
            "img/72598.png\n",
            "66\n",
            "Looking for /root/.keras-ocr/craft_mlt_25k.h5\n",
            "Looking for /root/.keras-ocr/crnn_kurapan.h5\n",
            "1/1 [==============================] - 13s 13s/step\n",
            "1/1 [==============================] - 6s 6s/step\n",
            "img/43078.png\n",
            "65\n",
            "Looking for /root/.keras-ocr/craft_mlt_25k.h5\n",
            "Looking for /root/.keras-ocr/crnn_kurapan.h5\n",
            "1/1 [==============================] - 29s 29s/step\n",
            "2/2 [==============================] - 12s 699ms/step\n",
            "img/51846.png\n",
            "64\n",
            "Looking for /root/.keras-ocr/craft_mlt_25k.h5\n",
            "Looking for /root/.keras-ocr/crnn_kurapan.h5\n",
            "1/1 [==============================] - 42s 42s/step\n",
            "1/1 [==============================] - 5s 5s/step\n",
            "img/01569.png\n",
            "63\n",
            "Looking for /root/.keras-ocr/craft_mlt_25k.h5\n",
            "Looking for /root/.keras-ocr/crnn_kurapan.h5\n",
            "1/1 [==============================] - 31s 31s/step\n",
            "1/1 [==============================] - 6s 6s/step\n",
            "img/95812.png\n",
            "62\n",
            "Looking for /root/.keras-ocr/craft_mlt_25k.h5\n",
            "Looking for /root/.keras-ocr/crnn_kurapan.h5\n",
            "1/1 [==============================] - 30s 30s/step\n",
            "1/1 [==============================] - 5s 5s/step\n",
            "img/06418.png\n",
            "61\n",
            "Looking for /root/.keras-ocr/craft_mlt_25k.h5\n",
            "Looking for /root/.keras-ocr/crnn_kurapan.h5\n",
            "1/1 [==============================] - 13s 13s/step\n",
            "1/1 [==============================] - 3s 3s/step\n",
            "img/53976.png\n",
            "60\n",
            "Looking for /root/.keras-ocr/craft_mlt_25k.h5\n",
            "Looking for /root/.keras-ocr/crnn_kurapan.h5\n",
            "1/1 [==============================] - 27s 27s/step\n",
            "1/1 [==============================] - 5s 5s/step\n",
            "img/70193.png\n",
            "59\n",
            "Looking for /root/.keras-ocr/craft_mlt_25k.h5\n",
            "Looking for /root/.keras-ocr/crnn_kurapan.h5\n",
            "1/1 [==============================] - 30s 30s/step\n",
            "1/1 [==============================] - 7s 7s/step\n",
            "img/60427.png\n",
            "58\n",
            "Looking for /root/.keras-ocr/craft_mlt_25k.h5\n",
            "Looking for /root/.keras-ocr/crnn_kurapan.h5\n",
            "1/1 [==============================] - 29s 29s/step\n",
            "1/1 [==============================] - 7s 7s/step\n",
            "img/78395.png\n",
            "57\n",
            "Looking for /root/.keras-ocr/craft_mlt_25k.h5\n",
            "Looking for /root/.keras-ocr/crnn_kurapan.h5\n",
            "1/1 [==============================] - 40s 40s/step\n",
            "1/1 [==============================] - 3s 3s/step\n",
            "img/04876.png\n",
            "56\n",
            "Looking for /root/.keras-ocr/craft_mlt_25k.h5\n",
            "Looking for /root/.keras-ocr/crnn_kurapan.h5\n",
            "1/1 [==============================] - 7s 7s/step\n",
            "1/1 [==============================] - 3s 3s/step\n",
            "img/92075.png\n",
            "55\n",
            "Looking for /root/.keras-ocr/craft_mlt_25k.h5\n",
            "Looking for /root/.keras-ocr/crnn_kurapan.h5\n",
            "1/1 [==============================] - 30s 30s/step\n",
            "1/1 [==============================] - 5s 5s/step\n",
            "img/86354.png\n",
            "54\n",
            "Looking for /root/.keras-ocr/craft_mlt_25k.h5\n",
            "Looking for /root/.keras-ocr/crnn_kurapan.h5\n",
            "1/1 [==============================] - 41s 41s/step\n",
            "1/1 [==============================] - 3s 3s/step\n",
            "img/74386.png\n",
            "53\n",
            "Looking for /root/.keras-ocr/craft_mlt_25k.h5\n",
            "Looking for /root/.keras-ocr/crnn_kurapan.h5\n",
            "1/1 [==============================] - 40s 40s/step\n",
            "1/1 [==============================] - 7s 7s/step\n",
            "img/59613.png\n",
            "52\n",
            "Looking for /root/.keras-ocr/craft_mlt_25k.h5\n",
            "Looking for /root/.keras-ocr/crnn_kurapan.h5\n",
            "1/1 [==============================] - 31s 31s/step\n",
            "1/1 [==============================] - 10s 10s/step\n",
            "img/10263.png\n",
            "51\n",
            "Looking for /root/.keras-ocr/craft_mlt_25k.h5\n",
            "Looking for /root/.keras-ocr/crnn_kurapan.h5\n",
            "1/1 [==============================] - 26s 26s/step\n",
            "2/2 [==============================] - 11s 252ms/step\n",
            "img/48279.png\n",
            "50\n",
            "Looking for /root/.keras-ocr/craft_mlt_25k.h5\n",
            "Looking for /root/.keras-ocr/crnn_kurapan.h5\n",
            "1/1 [==============================] - 29s 29s/step\n",
            "1/1 [==============================] - 5s 5s/step\n",
            "img/52610.png\n",
            "49\n",
            "Looking for /root/.keras-ocr/craft_mlt_25k.h5\n",
            "Looking for /root/.keras-ocr/crnn_kurapan.h5\n",
            "1/1 [==============================] - 9s 9s/step\n",
            "1/1 [==============================] - 6s 6s/step\n",
            "img/58371.png\n",
            "48\n",
            "Looking for /root/.keras-ocr/craft_mlt_25k.h5\n",
            "Looking for /root/.keras-ocr/crnn_kurapan.h5\n",
            "1/1 [==============================] - 13s 13s/step\n",
            "1/1 [==============================] - 4s 4s/step\n",
            "img/27401.png\n",
            "47\n",
            "Looking for /root/.keras-ocr/craft_mlt_25k.h5\n",
            "Looking for /root/.keras-ocr/crnn_kurapan.h5\n",
            "1/1 [==============================] - 13s 13s/step\n",
            "1/1 [==============================] - 4s 4s/step\n",
            "img/89574.png\n",
            "46\n",
            "Looking for /root/.keras-ocr/craft_mlt_25k.h5\n",
            "Looking for /root/.keras-ocr/crnn_kurapan.h5\n",
            "1/1 [==============================] - 31s 31s/step\n",
            "1/1 [==============================] - 3s 3s/step\n",
            "img/25473.png\n",
            "45\n",
            "Looking for /root/.keras-ocr/craft_mlt_25k.h5\n",
            "Looking for /root/.keras-ocr/crnn_kurapan.h5\n",
            "1/1 [==============================] - 12s 12s/step\n",
            "1/1 [==============================] - 7s 7s/step\n",
            "img/47913.png\n",
            "44\n",
            "Looking for /root/.keras-ocr/craft_mlt_25k.h5\n",
            "Looking for /root/.keras-ocr/crnn_kurapan.h5\n",
            "1/1 [==============================] - 24s 24s/step\n",
            "1/1 [==============================] - 8s 8s/step\n",
            "img/08295.png\n",
            "43\n",
            "Looking for /root/.keras-ocr/craft_mlt_25k.h5\n",
            "Looking for /root/.keras-ocr/crnn_kurapan.h5\n",
            "1/1 [==============================] - 13s 13s/step\n",
            "1/1 [==============================] - 4s 4s/step\n",
            "img/02497.png\n",
            "42\n",
            "Looking for /root/.keras-ocr/craft_mlt_25k.h5\n",
            "Looking for /root/.keras-ocr/crnn_kurapan.h5\n",
            "1/1 [==============================] - 30s 30s/step\n",
            "1/1 [==============================] - 4s 4s/step\n",
            "img/90471.png\n",
            "41\n",
            "Looking for /root/.keras-ocr/craft_mlt_25k.h5\n",
            "Looking for /root/.keras-ocr/crnn_kurapan.h5\n",
            "1/1 [==============================] - 11s 11s/step\n",
            "1/1 [==============================] - 5s 5s/step\n",
            "img/69357.png\n",
            "40\n",
            "Looking for /root/.keras-ocr/craft_mlt_25k.h5\n",
            "Looking for /root/.keras-ocr/crnn_kurapan.h5\n",
            "1/1 [==============================] - 14s 14s/step\n",
            "1/1 [==============================] - 4s 4s/step\n",
            "img/54602.png\n",
            "39\n",
            "Looking for /root/.keras-ocr/craft_mlt_25k.h5\n",
            "Looking for /root/.keras-ocr/crnn_kurapan.h5\n",
            "1/1 [==============================] - 13s 13s/step\n",
            "1/1 [==============================] - 6s 6s/step\n",
            "img/15320.png\n",
            "38\n",
            "Looking for /root/.keras-ocr/craft_mlt_25k.h5\n",
            "Looking for /root/.keras-ocr/crnn_kurapan.h5\n",
            "1/1 [==============================] - 8s 8s/step\n",
            "1/1 [==============================] - 17s 17s/step\n",
            "img/63182.png\n",
            "37\n",
            "Looking for /root/.keras-ocr/craft_mlt_25k.h5\n",
            "Looking for /root/.keras-ocr/crnn_kurapan.h5\n",
            "1/1 [==============================] - 31s 31s/step\n",
            "1/1 [==============================] - 9s 9s/step\n",
            "img/20619.png\n",
            "36\n",
            "Looking for /root/.keras-ocr/craft_mlt_25k.h5\n",
            "Looking for /root/.keras-ocr/crnn_kurapan.h5\n",
            "1/1 [==============================] - 13s 13s/step\n",
            "1/1 [==============================] - 9s 9s/step\n",
            "img/82457.png\n",
            "35\n",
            "Looking for /root/.keras-ocr/craft_mlt_25k.h5\n",
            "Looking for /root/.keras-ocr/crnn_kurapan.h5\n",
            "1/1 [==============================] - 6s 6s/step\n",
            "1/1 [==============================] - 6s 6s/step\n",
            "img/81059.png\n",
            "34\n",
            "Looking for /root/.keras-ocr/craft_mlt_25k.h5\n",
            "Looking for /root/.keras-ocr/crnn_kurapan.h5\n",
            "1/1 [==============================] - 13s 13s/step\n",
            "1/1 [==============================] - 5s 5s/step\n",
            "img/42137.png\n",
            "33\n",
            "Looking for /root/.keras-ocr/craft_mlt_25k.h5\n",
            "Looking for /root/.keras-ocr/crnn_kurapan.h5\n",
            "1/1 [==============================] - 8s 8s/step\n",
            "1/1 [==============================] - 4s 4s/step\n",
            "img/74530.png\n",
            "32\n",
            "Looking for /root/.keras-ocr/craft_mlt_25k.h5\n",
            "Looking for /root/.keras-ocr/crnn_kurapan.h5\n",
            "1/1 [==============================] - 8s 8s/step\n",
            "1/1 [==============================] - 7s 7s/step\n",
            "img/40832.png\n",
            "31\n",
            "Looking for /root/.keras-ocr/craft_mlt_25k.h5\n",
            "Looking for /root/.keras-ocr/crnn_kurapan.h5\n",
            "1/1 [==============================] - 14s 14s/step\n",
            "1/1 [==============================] - 4s 4s/step\n",
            "img/46127.png\n",
            "30\n",
            "Looking for /root/.keras-ocr/craft_mlt_25k.h5\n",
            "Looking for /root/.keras-ocr/crnn_kurapan.h5\n",
            "1/1 [==============================] - 13s 13s/step\n",
            "1/1 [==============================] - 5s 5s/step\n",
            "img/87594.png\n",
            "29\n",
            "Looking for /root/.keras-ocr/craft_mlt_25k.h5\n",
            "Looking for /root/.keras-ocr/crnn_kurapan.h5\n",
            "1/1 [==============================] - 13s 13s/step\n",
            "1/1 [==============================] - 7s 7s/step\n",
            "img/12548.png\n",
            "28\n",
            "Looking for /root/.keras-ocr/craft_mlt_25k.h5\n",
            "Looking for /root/.keras-ocr/crnn_kurapan.h5\n",
            "1/1 [==============================] - 13s 13s/step\n",
            "1/1 [==============================] - 3s 3s/step\n",
            "img/12894.png\n",
            "27\n",
            "Looking for /root/.keras-ocr/craft_mlt_25k.h5\n",
            "Looking for /root/.keras-ocr/crnn_kurapan.h5\n",
            "1/1 [==============================] - 26s 26s/step\n",
            "2/2 [==============================] - 12s 1s/step\n",
            "img/02476.png\n",
            "26\n",
            "Looking for /root/.keras-ocr/craft_mlt_25k.h5\n",
            "Looking for /root/.keras-ocr/crnn_kurapan.h5\n",
            "1/1 [==============================] - 13s 13s/step\n",
            "1/1 [==============================] - 3s 3s/step\n",
            "img/06937.png\n",
            "25\n",
            "Looking for /root/.keras-ocr/craft_mlt_25k.h5\n",
            "Looking for /root/.keras-ocr/crnn_kurapan.h5\n",
            "1/1 [==============================] - 29s 29s/step\n",
            "1/1 [==============================] - 6s 6s/step\n",
            "img/05762.png\n",
            "24\n",
            "Looking for /root/.keras-ocr/craft_mlt_25k.h5\n",
            "Looking for /root/.keras-ocr/crnn_kurapan.h5\n",
            "1/1 [==============================] - 29s 29s/step\n",
            "1/1 [==============================] - 7s 7s/step\n",
            "img/40259.png\n",
            "23\n",
            "Looking for /root/.keras-ocr/craft_mlt_25k.h5\n",
            "Looking for /root/.keras-ocr/crnn_kurapan.h5\n",
            "1/1 [==============================] - 28s 28s/step\n",
            "1/1 [==============================] - 4s 4s/step\n",
            "img/85072.png\n",
            "22\n",
            "Looking for /root/.keras-ocr/craft_mlt_25k.h5\n",
            "Looking for /root/.keras-ocr/crnn_kurapan.h5\n",
            "1/1 [==============================] - 28s 28s/step\n",
            "1/1 [==============================] - 4s 4s/step\n",
            "img/46537.png\n",
            "21\n",
            "Looking for /root/.keras-ocr/craft_mlt_25k.h5\n",
            "Looking for /root/.keras-ocr/crnn_kurapan.h5\n",
            "1/1 [==============================] - 31s 31s/step\n",
            "1/1 [==============================] - 5s 5s/step\n",
            "img/56432.png\n",
            "20\n",
            "Looking for /root/.keras-ocr/craft_mlt_25k.h5\n",
            "Looking for /root/.keras-ocr/crnn_kurapan.h5\n",
            "1/1 [==============================] - 27s 27s/step\n",
            "1/1 [==============================] - 7s 7s/step\n",
            "img/39805.png\n",
            "19\n",
            "Looking for /root/.keras-ocr/craft_mlt_25k.h5\n",
            "Looking for /root/.keras-ocr/crnn_kurapan.h5\n",
            "1/1 [==============================] - 7s 7s/step\n",
            "1/1 [==============================] - 4s 4s/step\n",
            "img/29163.png\n",
            "18\n",
            "Looking for /root/.keras-ocr/craft_mlt_25k.h5\n",
            "Looking for /root/.keras-ocr/crnn_kurapan.h5\n",
            "1/1 [==============================] - 10s 10s/step\n",
            "1/1 [==============================] - 6s 6s/step\n",
            "img/36072.png\n",
            "17\n",
            "Looking for /root/.keras-ocr/craft_mlt_25k.h5\n",
            "Looking for /root/.keras-ocr/crnn_kurapan.h5\n",
            "1/1 [==============================] - 27s 27s/step\n",
            "1/1 [==============================] - 6s 6s/step\n",
            "img/60147.png\n",
            "16\n",
            "Looking for /root/.keras-ocr/craft_mlt_25k.h5\n",
            "Looking for /root/.keras-ocr/crnn_kurapan.h5\n",
            "1/1 [==============================] - 15s 15s/step\n",
            "1/1 [==============================] - 3s 3s/step\n",
            "img/90583.png\n",
            "15\n",
            "Looking for /root/.keras-ocr/craft_mlt_25k.h5\n",
            "Looking for /root/.keras-ocr/crnn_kurapan.h5\n",
            "1/1 [==============================] - 32s 32s/step\n",
            "1/1 [==============================] - 7s 7s/step\n",
            "img/38612.png\n",
            "14\n",
            "Looking for /root/.keras-ocr/craft_mlt_25k.h5\n",
            "Looking for /root/.keras-ocr/crnn_kurapan.h5\n",
            "1/1 [==============================] - 55s 55s/step\n",
            "1/1 [==============================] - 6s 6s/step\n",
            "img/52097.png\n",
            "13\n",
            "Looking for /root/.keras-ocr/craft_mlt_25k.h5\n",
            "Looking for /root/.keras-ocr/crnn_kurapan.h5\n",
            "1/1 [==============================] - 10s 10s/step\n",
            "1/1 [==============================] - 8s 8s/step\n",
            "img/34961.png\n",
            "12\n",
            "Looking for /root/.keras-ocr/craft_mlt_25k.h5\n",
            "Looking for /root/.keras-ocr/crnn_kurapan.h5\n",
            "1/1 [==============================] - 33s 33s/step\n",
            "1/1 [==============================] - 6s 6s/step\n",
            "img/15803.png\n",
            "11\n",
            "Looking for /root/.keras-ocr/craft_mlt_25k.h5\n",
            "Looking for /root/.keras-ocr/crnn_kurapan.h5\n",
            "1/1 [==============================] - 29s 29s/step\n",
            "1/1 [==============================] - 4s 4s/step\n",
            "img/89762.png\n",
            "10\n",
            "Looking for /root/.keras-ocr/craft_mlt_25k.h5\n",
            "Looking for /root/.keras-ocr/crnn_kurapan.h5\n",
            "1/1 [==============================] - 13s 13s/step\n",
            "1/1 [==============================] - 5s 5s/step\n",
            "img/38465.png\n",
            "9\n",
            "Looking for /root/.keras-ocr/craft_mlt_25k.h5\n",
            "Looking for /root/.keras-ocr/crnn_kurapan.h5\n",
            "1/1 [==============================] - 27s 27s/step\n",
            "1/1 [==============================] - 10s 10s/step\n",
            "img/53289.png\n",
            "8\n",
            "Looking for /root/.keras-ocr/craft_mlt_25k.h5\n",
            "Looking for /root/.keras-ocr/crnn_kurapan.h5\n",
            "1/1 [==============================] - 13s 13s/step\n",
            "1/1 [==============================] - 5s 5s/step\n",
            "img/75321.png\n",
            "7\n",
            "Looking for /root/.keras-ocr/craft_mlt_25k.h5\n",
            "Looking for /root/.keras-ocr/crnn_kurapan.h5\n",
            "1/1 [==============================] - 6s 6s/step\n",
            "1/1 [==============================] - 5s 5s/step\n",
            "img/18350.png\n",
            "6\n",
            "Looking for /root/.keras-ocr/craft_mlt_25k.h5\n",
            "Looking for /root/.keras-ocr/crnn_kurapan.h5\n",
            "1/1 [==============================] - 13s 13s/step\n",
            "1/1 [==============================] - 4s 4s/step\n",
            "img/91547.png\n",
            "5\n",
            "Looking for /root/.keras-ocr/craft_mlt_25k.h5\n",
            "Looking for /root/.keras-ocr/crnn_kurapan.h5\n",
            "1/1 [==============================] - 27s 27s/step\n",
            "1/1 [==============================] - 6s 6s/step\n",
            "img/30247.png\n",
            "4\n",
            "Looking for /root/.keras-ocr/craft_mlt_25k.h5\n",
            "Looking for /root/.keras-ocr/crnn_kurapan.h5\n",
            "1/1 [==============================] - 27s 27s/step\n",
            "1/1 [==============================] - 3s 3s/step\n",
            "img/93741.png\n",
            "3\n",
            "Looking for /root/.keras-ocr/craft_mlt_25k.h5\n",
            "Looking for /root/.keras-ocr/crnn_kurapan.h5\n",
            "1/1 [==============================] - 8s 8s/step\n",
            "1/1 [==============================] - 3s 3s/step\n",
            "img/51243.png\n",
            "2\n",
            "Looking for /root/.keras-ocr/craft_mlt_25k.h5\n",
            "Looking for /root/.keras-ocr/crnn_kurapan.h5\n",
            "1/1 [==============================] - 32s 32s/step\n",
            "1/1 [==============================] - 4s 4s/step\n",
            "img/05384.png\n",
            "1\n",
            "Looking for /root/.keras-ocr/craft_mlt_25k.h5\n",
            "Looking for /root/.keras-ocr/crnn_kurapan.h5\n",
            "1/1 [==============================] - 31s 31s/step\n",
            "1/1 [==============================] - 4s 4s/step\n"
          ]
        }
      ]
    },
    {
      "cell_type": "code",
      "source": [
        "!git clone https://github.com/ultralytics/yolov5  # clone\n",
        "%cd yolov5\n",
        "%pip install -qr requirements.txt  # install\n",
        "\n",
        "import torch\n",
        "from yolov5 import utils\n",
        "display = utils.notebook_init()"
      ],
      "metadata": {
        "colab": {
          "base_uri": "https://localhost:8080/"
        },
        "id": "jdmqpYKD2-Qg",
        "outputId": "1f017a75-a218-4a42-c8bf-1eb320e64371"
      },
      "execution_count": 15,
      "outputs": [
        {
          "output_type": "stream",
          "name": "stderr",
          "text": [
            "YOLOv5 🚀 v7.0-304-g22361691 Python-3.10.12 torch-2.2.1+cu121 CPU\n"
          ]
        },
        {
          "output_type": "stream",
          "name": "stdout",
          "text": [
            "Setup complete ✅ (2 CPUs, 12.7 GB RAM, 29.3/107.7 GB disk)\n"
          ]
        }
      ]
    },
    {
      "cell_type": "code",
      "source": [
        "path2 = '/content/drive/MyDrive/Text_removed/'"
      ],
      "metadata": {
        "id": "BbnBvRrno-Tg"
      },
      "execution_count": 16,
      "outputs": []
    },
    {
      "cell_type": "code",
      "source": [
        "objects_originalImg = {}\n",
        "count_originalImg = count\n",
        "objects_modifiedImg = {}\n",
        "\n",
        "for each in data1['img']:\n",
        "    print(each)\n",
        "    img_path = path + each\n",
        "    modifiedImg_path = path2 + each\n",
        "    model = torch.hub.load('ultralytics/yolov5', 'yolov5s')\n",
        "    results = model(img_path)\n",
        "\n",
        "    results_modifiedImg = model(modifiedImg_path)\n",
        "\n",
        "    # Extracting unique objects detected in the original image\n",
        "    unique_objects_original = results.pandas().xyxy[0]['name'].unique()\n",
        "    # Extracting unique objects detected in the modified image\n",
        "    unique_objects_modified = results_modifiedImg.pandas().xyxy[0]['name'].unique()\n",
        "\n",
        "    object_confidences_original = {}\n",
        "    object_confidences_modifiedImg = {}\n",
        "\n",
        "    # Iterate over each unique object in the original image\n",
        "    for obj in unique_objects_original:\n",
        "\n",
        "        # Filter detections for the current object in the original image\n",
        "        object_detections = results.pandas().xyxy[0][results.pandas().xyxy[0]['name'] == obj]\n",
        "        max_confidence = object_detections['confidence'].max()\n",
        "        object_confidences_original[obj] = max_confidence\n",
        "\n",
        "    objects_originalImg[each] = object_confidences_original\n",
        "\n",
        "    # Iterate over each unique object in the modified image\n",
        "    for obj in unique_objects_modified:\n",
        "\n",
        "        # Filter detections for the current object in the modified image\n",
        "        object_detections = results_modifiedImg.pandas().xyxy[0][results_modifiedImg.pandas().xyxy[0]['name'] == obj]\n",
        "        max_confidence = object_detections['confidence'].max()\n",
        "        object_confidences_modifiedImg[obj] = max_confidence\n",
        "\n",
        "\n",
        "    objects_modifiedImg[each] = object_confidences_modifiedImg\n",
        "    count_originalImg -= 1\n",
        "    if count_originalImg <= 0:\n",
        "        break\n",
        "\n",
        "print(objects_originalImg)\n",
        "print(objects_modifiedImg)"
      ],
      "metadata": {
        "colab": {
          "base_uri": "https://localhost:8080/"
        },
        "id": "JExLYT7284c1",
        "outputId": "8b564bd7-1d1d-4851-c9df-e51902b9e630"
      },
      "execution_count": 37,
      "outputs": [
        {
          "output_type": "stream",
          "name": "stdout",
          "text": [
            "img/42953.png\n"
          ]
        },
        {
          "output_type": "stream",
          "name": "stderr",
          "text": [
            "Using cache found in /root/.cache/torch/hub/ultralytics_yolov5_master\n",
            "YOLOv5 🚀 v7.0-304-g22361691 Python-3.10.12 torch-2.2.1+cu121 CPU\n",
            "\n",
            "Fusing layers... \n",
            "YOLOv5s summary: 213 layers, 7225885 parameters, 0 gradients, 16.4 GFLOPs\n",
            "Adding AutoShape... \n"
          ]
        },
        {
          "output_type": "stream",
          "name": "stdout",
          "text": [
            "img/23058.png\n"
          ]
        },
        {
          "output_type": "stream",
          "name": "stderr",
          "text": [
            "Using cache found in /root/.cache/torch/hub/ultralytics_yolov5_master\n",
            "YOLOv5 🚀 v7.0-304-g22361691 Python-3.10.12 torch-2.2.1+cu121 CPU\n",
            "\n",
            "Fusing layers... \n",
            "YOLOv5s summary: 213 layers, 7225885 parameters, 0 gradients, 16.4 GFLOPs\n",
            "Adding AutoShape... \n",
            "Using cache found in /root/.cache/torch/hub/ultralytics_yolov5_master\n",
            "YOLOv5 🚀 v7.0-304-g22361691 Python-3.10.12 torch-2.2.1+cu121 CPU\n",
            "\n",
            "Fusing layers... \n"
          ]
        },
        {
          "output_type": "stream",
          "name": "stdout",
          "text": [
            "img/13894.png\n"
          ]
        },
        {
          "output_type": "stream",
          "name": "stderr",
          "text": [
            "YOLOv5s summary: 213 layers, 7225885 parameters, 0 gradients, 16.4 GFLOPs\n",
            "Adding AutoShape... \n",
            "Using cache found in /root/.cache/torch/hub/ultralytics_yolov5_master\n",
            "YOLOv5 🚀 v7.0-304-g22361691 Python-3.10.12 torch-2.2.1+cu121 CPU\n",
            "\n"
          ]
        },
        {
          "output_type": "stream",
          "name": "stdout",
          "text": [
            "img/37408.png\n"
          ]
        },
        {
          "output_type": "stream",
          "name": "stderr",
          "text": [
            "Fusing layers... \n",
            "YOLOv5s summary: 213 layers, 7225885 parameters, 0 gradients, 16.4 GFLOPs\n",
            "Adding AutoShape... \n",
            "Using cache found in /root/.cache/torch/hub/ultralytics_yolov5_master\n",
            "YOLOv5 🚀 v7.0-304-g22361691 Python-3.10.12 torch-2.2.1+cu121 CPU\n",
            "\n"
          ]
        },
        {
          "output_type": "stream",
          "name": "stdout",
          "text": [
            "img/82403.png\n"
          ]
        },
        {
          "output_type": "stream",
          "name": "stderr",
          "text": [
            "Fusing layers... \n",
            "YOLOv5s summary: 213 layers, 7225885 parameters, 0 gradients, 16.4 GFLOPs\n",
            "Adding AutoShape... \n",
            "Using cache found in /root/.cache/torch/hub/ultralytics_yolov5_master\n",
            "YOLOv5 🚀 v7.0-304-g22361691 Python-3.10.12 torch-2.2.1+cu121 CPU\n",
            "\n",
            "Fusing layers... \n"
          ]
        },
        {
          "output_type": "stream",
          "name": "stdout",
          "text": [
            "img/16952.png\n"
          ]
        },
        {
          "output_type": "stream",
          "name": "stderr",
          "text": [
            "YOLOv5s summary: 213 layers, 7225885 parameters, 0 gradients, 16.4 GFLOPs\n",
            "Adding AutoShape... \n",
            "Using cache found in /root/.cache/torch/hub/ultralytics_yolov5_master\n",
            "YOLOv5 🚀 v7.0-304-g22361691 Python-3.10.12 torch-2.2.1+cu121 CPU\n",
            "\n",
            "Fusing layers... \n"
          ]
        },
        {
          "output_type": "stream",
          "name": "stdout",
          "text": [
            "img/76932.png\n"
          ]
        },
        {
          "output_type": "stream",
          "name": "stderr",
          "text": [
            "YOLOv5s summary: 213 layers, 7225885 parameters, 0 gradients, 16.4 GFLOPs\n",
            "Adding AutoShape... \n",
            "Using cache found in /root/.cache/torch/hub/ultralytics_yolov5_master\n",
            "YOLOv5 🚀 v7.0-304-g22361691 Python-3.10.12 torch-2.2.1+cu121 CPU\n",
            "\n",
            "Fusing layers... \n"
          ]
        },
        {
          "output_type": "stream",
          "name": "stdout",
          "text": [
            "img/70914.png\n"
          ]
        },
        {
          "output_type": "stream",
          "name": "stderr",
          "text": [
            "YOLOv5s summary: 213 layers, 7225885 parameters, 0 gradients, 16.4 GFLOPs\n",
            "Adding AutoShape... \n",
            "Using cache found in /root/.cache/torch/hub/ultralytics_yolov5_master\n",
            "YOLOv5 🚀 v7.0-304-g22361691 Python-3.10.12 torch-2.2.1+cu121 CPU\n",
            "\n",
            "Fusing layers... \n"
          ]
        },
        {
          "output_type": "stream",
          "name": "stdout",
          "text": [
            "img/02973.png\n"
          ]
        },
        {
          "output_type": "stream",
          "name": "stderr",
          "text": [
            "YOLOv5s summary: 213 layers, 7225885 parameters, 0 gradients, 16.4 GFLOPs\n",
            "Adding AutoShape... \n",
            "Using cache found in /root/.cache/torch/hub/ultralytics_yolov5_master\n",
            "YOLOv5 🚀 v7.0-304-g22361691 Python-3.10.12 torch-2.2.1+cu121 CPU\n",
            "\n"
          ]
        },
        {
          "output_type": "stream",
          "name": "stdout",
          "text": [
            "img/58306.png\n"
          ]
        },
        {
          "output_type": "stream",
          "name": "stderr",
          "text": [
            "Fusing layers... \n",
            "YOLOv5s summary: 213 layers, 7225885 parameters, 0 gradients, 16.4 GFLOPs\n",
            "Adding AutoShape... \n",
            "Using cache found in /root/.cache/torch/hub/ultralytics_yolov5_master\n",
            "YOLOv5 🚀 v7.0-304-g22361691 Python-3.10.12 torch-2.2.1+cu121 CPU\n",
            "\n"
          ]
        },
        {
          "output_type": "stream",
          "name": "stdout",
          "text": [
            "img/79351.png\n"
          ]
        },
        {
          "output_type": "stream",
          "name": "stderr",
          "text": [
            "Fusing layers... \n",
            "YOLOv5s summary: 213 layers, 7225885 parameters, 0 gradients, 16.4 GFLOPs\n",
            "Adding AutoShape... \n",
            "Using cache found in /root/.cache/torch/hub/ultralytics_yolov5_master\n",
            "YOLOv5 🚀 v7.0-304-g22361691 Python-3.10.12 torch-2.2.1+cu121 CPU\n",
            "\n",
            "Fusing layers... \n"
          ]
        },
        {
          "output_type": "stream",
          "name": "stdout",
          "text": [
            "img/34096.png\n"
          ]
        },
        {
          "output_type": "stream",
          "name": "stderr",
          "text": [
            "YOLOv5s summary: 213 layers, 7225885 parameters, 0 gradients, 16.4 GFLOPs\n",
            "Adding AutoShape... \n",
            "Using cache found in /root/.cache/torch/hub/ultralytics_yolov5_master\n",
            "YOLOv5 🚀 v7.0-304-g22361691 Python-3.10.12 torch-2.2.1+cu121 CPU\n",
            "\n"
          ]
        },
        {
          "output_type": "stream",
          "name": "stdout",
          "text": [
            "img/25489.png\n"
          ]
        },
        {
          "output_type": "stream",
          "name": "stderr",
          "text": [
            "Fusing layers... \n",
            "YOLOv5s summary: 213 layers, 7225885 parameters, 0 gradients, 16.4 GFLOPs\n",
            "Adding AutoShape... \n",
            "Using cache found in /root/.cache/torch/hub/ultralytics_yolov5_master\n",
            "YOLOv5 🚀 v7.0-304-g22361691 Python-3.10.12 torch-2.2.1+cu121 CPU\n",
            "\n"
          ]
        },
        {
          "output_type": "stream",
          "name": "stdout",
          "text": [
            "img/19324.png\n"
          ]
        },
        {
          "output_type": "stream",
          "name": "stderr",
          "text": [
            "Fusing layers... \n",
            "YOLOv5s summary: 213 layers, 7225885 parameters, 0 gradients, 16.4 GFLOPs\n",
            "Adding AutoShape... \n",
            "Using cache found in /root/.cache/torch/hub/ultralytics_yolov5_master\n",
            "YOLOv5 🚀 v7.0-304-g22361691 Python-3.10.12 torch-2.2.1+cu121 CPU\n",
            "\n"
          ]
        },
        {
          "output_type": "stream",
          "name": "stdout",
          "text": [
            "img/79346.png\n"
          ]
        },
        {
          "output_type": "stream",
          "name": "stderr",
          "text": [
            "Fusing layers... \n",
            "YOLOv5s summary: 213 layers, 7225885 parameters, 0 gradients, 16.4 GFLOPs\n",
            "Adding AutoShape... \n",
            "Using cache found in /root/.cache/torch/hub/ultralytics_yolov5_master\n",
            "YOLOv5 🚀 v7.0-304-g22361691 Python-3.10.12 torch-2.2.1+cu121 CPU\n",
            "\n",
            "Fusing layers... \n"
          ]
        },
        {
          "output_type": "stream",
          "name": "stdout",
          "text": [
            "img/13426.png\n"
          ]
        },
        {
          "output_type": "stream",
          "name": "stderr",
          "text": [
            "YOLOv5s summary: 213 layers, 7225885 parameters, 0 gradients, 16.4 GFLOPs\n",
            "Adding AutoShape... \n",
            "Using cache found in /root/.cache/torch/hub/ultralytics_yolov5_master\n",
            "YOLOv5 🚀 v7.0-304-g22361691 Python-3.10.12 torch-2.2.1+cu121 CPU\n",
            "\n",
            "Fusing layers... \n"
          ]
        },
        {
          "output_type": "stream",
          "name": "stdout",
          "text": [
            "img/97628.png\n"
          ]
        },
        {
          "output_type": "stream",
          "name": "stderr",
          "text": [
            "YOLOv5s summary: 213 layers, 7225885 parameters, 0 gradients, 16.4 GFLOPs\n",
            "Adding AutoShape... \n",
            "Using cache found in /root/.cache/torch/hub/ultralytics_yolov5_master\n",
            "YOLOv5 🚀 v7.0-304-g22361691 Python-3.10.12 torch-2.2.1+cu121 CPU\n",
            "\n",
            "Fusing layers... \n"
          ]
        },
        {
          "output_type": "stream",
          "name": "stdout",
          "text": [
            "img/14238.png\n"
          ]
        },
        {
          "output_type": "stream",
          "name": "stderr",
          "text": [
            "YOLOv5s summary: 213 layers, 7225885 parameters, 0 gradients, 16.4 GFLOPs\n",
            "Adding AutoShape... \n",
            "Using cache found in /root/.cache/torch/hub/ultralytics_yolov5_master\n",
            "YOLOv5 🚀 v7.0-304-g22361691 Python-3.10.12 torch-2.2.1+cu121 CPU\n",
            "\n",
            "Fusing layers... \n"
          ]
        },
        {
          "output_type": "stream",
          "name": "stdout",
          "text": [
            "img/28936.png\n"
          ]
        },
        {
          "output_type": "stream",
          "name": "stderr",
          "text": [
            "YOLOv5s summary: 213 layers, 7225885 parameters, 0 gradients, 16.4 GFLOPs\n",
            "Adding AutoShape... \n",
            "Using cache found in /root/.cache/torch/hub/ultralytics_yolov5_master\n",
            "YOLOv5 🚀 v7.0-304-g22361691 Python-3.10.12 torch-2.2.1+cu121 CPU\n",
            "\n",
            "Fusing layers... \n"
          ]
        },
        {
          "output_type": "stream",
          "name": "stdout",
          "text": [
            "img/59784.png\n"
          ]
        },
        {
          "output_type": "stream",
          "name": "stderr",
          "text": [
            "YOLOv5s summary: 213 layers, 7225885 parameters, 0 gradients, 16.4 GFLOPs\n",
            "Adding AutoShape... \n",
            "Using cache found in /root/.cache/torch/hub/ultralytics_yolov5_master\n",
            "YOLOv5 🚀 v7.0-304-g22361691 Python-3.10.12 torch-2.2.1+cu121 CPU\n",
            "\n",
            "Fusing layers... \n"
          ]
        },
        {
          "output_type": "stream",
          "name": "stdout",
          "text": [
            "img/02146.png\n"
          ]
        },
        {
          "output_type": "stream",
          "name": "stderr",
          "text": [
            "YOLOv5s summary: 213 layers, 7225885 parameters, 0 gradients, 16.4 GFLOPs\n",
            "Adding AutoShape... \n",
            "Using cache found in /root/.cache/torch/hub/ultralytics_yolov5_master\n",
            "YOLOv5 🚀 v7.0-304-g22361691 Python-3.10.12 torch-2.2.1+cu121 CPU\n",
            "\n",
            "Fusing layers... \n"
          ]
        },
        {
          "output_type": "stream",
          "name": "stdout",
          "text": [
            "img/70146.png\n"
          ]
        },
        {
          "output_type": "stream",
          "name": "stderr",
          "text": [
            "YOLOv5s summary: 213 layers, 7225885 parameters, 0 gradients, 16.4 GFLOPs\n",
            "Adding AutoShape... \n",
            "Using cache found in /root/.cache/torch/hub/ultralytics_yolov5_master\n",
            "YOLOv5 🚀 v7.0-304-g22361691 Python-3.10.12 torch-2.2.1+cu121 CPU\n",
            "\n",
            "Fusing layers... \n"
          ]
        },
        {
          "output_type": "stream",
          "name": "stdout",
          "text": [
            "img/28061.png\n"
          ]
        },
        {
          "output_type": "stream",
          "name": "stderr",
          "text": [
            "YOLOv5s summary: 213 layers, 7225885 parameters, 0 gradients, 16.4 GFLOPs\n",
            "Adding AutoShape... \n",
            "Using cache found in /root/.cache/torch/hub/ultralytics_yolov5_master\n",
            "YOLOv5 🚀 v7.0-304-g22361691 Python-3.10.12 torch-2.2.1+cu121 CPU\n",
            "\n",
            "Fusing layers... \n"
          ]
        },
        {
          "output_type": "stream",
          "name": "stdout",
          "text": [
            "img/97180.png\n"
          ]
        },
        {
          "output_type": "stream",
          "name": "stderr",
          "text": [
            "YOLOv5s summary: 213 layers, 7225885 parameters, 0 gradients, 16.4 GFLOPs\n",
            "Adding AutoShape... \n",
            "Using cache found in /root/.cache/torch/hub/ultralytics_yolov5_master\n",
            "YOLOv5 🚀 v7.0-304-g22361691 Python-3.10.12 torch-2.2.1+cu121 CPU\n",
            "\n"
          ]
        },
        {
          "output_type": "stream",
          "name": "stdout",
          "text": [
            "img/49752.png\n"
          ]
        },
        {
          "output_type": "stream",
          "name": "stderr",
          "text": [
            "Fusing layers... \n",
            "YOLOv5s summary: 213 layers, 7225885 parameters, 0 gradients, 16.4 GFLOPs\n",
            "Adding AutoShape... \n",
            "Using cache found in /root/.cache/torch/hub/ultralytics_yolov5_master\n",
            "YOLOv5 🚀 v7.0-304-g22361691 Python-3.10.12 torch-2.2.1+cu121 CPU\n",
            "\n"
          ]
        },
        {
          "output_type": "stream",
          "name": "stdout",
          "text": [
            "img/25610.png\n"
          ]
        },
        {
          "output_type": "stream",
          "name": "stderr",
          "text": [
            "Fusing layers... \n",
            "YOLOv5s summary: 213 layers, 7225885 parameters, 0 gradients, 16.4 GFLOPs\n",
            "Adding AutoShape... \n",
            "Using cache found in /root/.cache/torch/hub/ultralytics_yolov5_master\n",
            "YOLOv5 🚀 v7.0-304-g22361691 Python-3.10.12 torch-2.2.1+cu121 CPU\n",
            "\n"
          ]
        },
        {
          "output_type": "stream",
          "name": "stdout",
          "text": [
            "img/15872.png\n"
          ]
        },
        {
          "output_type": "stream",
          "name": "stderr",
          "text": [
            "Fusing layers... \n",
            "YOLOv5s summary: 213 layers, 7225885 parameters, 0 gradients, 16.4 GFLOPs\n",
            "Adding AutoShape... \n",
            "Using cache found in /root/.cache/torch/hub/ultralytics_yolov5_master\n",
            "YOLOv5 🚀 v7.0-304-g22361691 Python-3.10.12 torch-2.2.1+cu121 CPU\n",
            "\n",
            "Fusing layers... \n"
          ]
        },
        {
          "output_type": "stream",
          "name": "stdout",
          "text": [
            "img/72640.png\n"
          ]
        },
        {
          "output_type": "stream",
          "name": "stderr",
          "text": [
            "YOLOv5s summary: 213 layers, 7225885 parameters, 0 gradients, 16.4 GFLOPs\n",
            "Adding AutoShape... \n",
            "Using cache found in /root/.cache/torch/hub/ultralytics_yolov5_master\n",
            "YOLOv5 🚀 v7.0-304-g22361691 Python-3.10.12 torch-2.2.1+cu121 CPU\n",
            "\n",
            "Fusing layers... \n"
          ]
        },
        {
          "output_type": "stream",
          "name": "stdout",
          "text": [
            "img/64318.png\n"
          ]
        },
        {
          "output_type": "stream",
          "name": "stderr",
          "text": [
            "YOLOv5s summary: 213 layers, 7225885 parameters, 0 gradients, 16.4 GFLOPs\n",
            "Adding AutoShape... \n"
          ]
        },
        {
          "output_type": "stream",
          "name": "stdout",
          "text": [
            "img/17956.png\n"
          ]
        },
        {
          "output_type": "stream",
          "name": "stderr",
          "text": [
            "Using cache found in /root/.cache/torch/hub/ultralytics_yolov5_master\n",
            "YOLOv5 🚀 v7.0-304-g22361691 Python-3.10.12 torch-2.2.1+cu121 CPU\n",
            "\n",
            "Fusing layers... \n",
            "YOLOv5s summary: 213 layers, 7225885 parameters, 0 gradients, 16.4 GFLOPs\n",
            "Adding AutoShape... \n",
            "Using cache found in /root/.cache/torch/hub/ultralytics_yolov5_master\n",
            "YOLOv5 🚀 v7.0-304-g22361691 Python-3.10.12 torch-2.2.1+cu121 CPU\n",
            "\n",
            "Fusing layers... \n"
          ]
        },
        {
          "output_type": "stream",
          "name": "stdout",
          "text": [
            "img/93547.png\n"
          ]
        },
        {
          "output_type": "stream",
          "name": "stderr",
          "text": [
            "YOLOv5s summary: 213 layers, 7225885 parameters, 0 gradients, 16.4 GFLOPs\n",
            "Adding AutoShape... \n",
            "Using cache found in /root/.cache/torch/hub/ultralytics_yolov5_master\n",
            "YOLOv5 🚀 v7.0-304-g22361691 Python-3.10.12 torch-2.2.1+cu121 CPU\n",
            "\n",
            "Fusing layers... \n"
          ]
        },
        {
          "output_type": "stream",
          "name": "stdout",
          "text": [
            "img/10743.png\n"
          ]
        },
        {
          "output_type": "stream",
          "name": "stderr",
          "text": [
            "YOLOv5s summary: 213 layers, 7225885 parameters, 0 gradients, 16.4 GFLOPs\n",
            "Adding AutoShape... \n",
            "Using cache found in /root/.cache/torch/hub/ultralytics_yolov5_master\n",
            "YOLOv5 🚀 v7.0-304-g22361691 Python-3.10.12 torch-2.2.1+cu121 CPU\n",
            "\n",
            "Fusing layers... \n"
          ]
        },
        {
          "output_type": "stream",
          "name": "stdout",
          "text": [
            "img/37091.png\n"
          ]
        },
        {
          "output_type": "stream",
          "name": "stderr",
          "text": [
            "YOLOv5s summary: 213 layers, 7225885 parameters, 0 gradients, 16.4 GFLOPs\n",
            "Adding AutoShape... \n",
            "Using cache found in /root/.cache/torch/hub/ultralytics_yolov5_master\n",
            "YOLOv5 🚀 v7.0-304-g22361691 Python-3.10.12 torch-2.2.1+cu121 CPU\n",
            "\n",
            "Fusing layers... \n"
          ]
        },
        {
          "output_type": "stream",
          "name": "stdout",
          "text": [
            "img/25719.png\n"
          ]
        },
        {
          "output_type": "stream",
          "name": "stderr",
          "text": [
            "YOLOv5s summary: 213 layers, 7225885 parameters, 0 gradients, 16.4 GFLOPs\n",
            "Adding AutoShape... \n",
            "Using cache found in /root/.cache/torch/hub/ultralytics_yolov5_master\n",
            "YOLOv5 🚀 v7.0-304-g22361691 Python-3.10.12 torch-2.2.1+cu121 CPU\n",
            "\n",
            "Fusing layers... \n"
          ]
        },
        {
          "output_type": "stream",
          "name": "stdout",
          "text": [
            "img/76825.png\n"
          ]
        },
        {
          "output_type": "stream",
          "name": "stderr",
          "text": [
            "YOLOv5s summary: 213 layers, 7225885 parameters, 0 gradients, 16.4 GFLOPs\n",
            "Adding AutoShape... \n",
            "Using cache found in /root/.cache/torch/hub/ultralytics_yolov5_master\n",
            "YOLOv5 🚀 v7.0-304-g22361691 Python-3.10.12 torch-2.2.1+cu121 CPU\n",
            "\n"
          ]
        },
        {
          "output_type": "stream",
          "name": "stdout",
          "text": [
            "img/72598.png\n"
          ]
        },
        {
          "output_type": "stream",
          "name": "stderr",
          "text": [
            "Fusing layers... \n",
            "YOLOv5s summary: 213 layers, 7225885 parameters, 0 gradients, 16.4 GFLOPs\n",
            "Adding AutoShape... \n",
            "Using cache found in /root/.cache/torch/hub/ultralytics_yolov5_master\n",
            "YOLOv5 🚀 v7.0-304-g22361691 Python-3.10.12 torch-2.2.1+cu121 CPU\n",
            "\n"
          ]
        },
        {
          "output_type": "stream",
          "name": "stdout",
          "text": [
            "img/43078.png\n"
          ]
        },
        {
          "output_type": "stream",
          "name": "stderr",
          "text": [
            "Fusing layers... \n",
            "YOLOv5s summary: 213 layers, 7225885 parameters, 0 gradients, 16.4 GFLOPs\n",
            "Adding AutoShape... \n",
            "Using cache found in /root/.cache/torch/hub/ultralytics_yolov5_master\n",
            "YOLOv5 🚀 v7.0-304-g22361691 Python-3.10.12 torch-2.2.1+cu121 CPU\n",
            "\n",
            "Fusing layers... \n"
          ]
        },
        {
          "output_type": "stream",
          "name": "stdout",
          "text": [
            "img/51846.png\n"
          ]
        },
        {
          "output_type": "stream",
          "name": "stderr",
          "text": [
            "YOLOv5s summary: 213 layers, 7225885 parameters, 0 gradients, 16.4 GFLOPs\n",
            "Adding AutoShape... \n",
            "Using cache found in /root/.cache/torch/hub/ultralytics_yolov5_master\n",
            "YOLOv5 🚀 v7.0-304-g22361691 Python-3.10.12 torch-2.2.1+cu121 CPU\n",
            "\n",
            "Fusing layers... \n"
          ]
        },
        {
          "output_type": "stream",
          "name": "stdout",
          "text": [
            "img/01569.png\n"
          ]
        },
        {
          "output_type": "stream",
          "name": "stderr",
          "text": [
            "YOLOv5s summary: 213 layers, 7225885 parameters, 0 gradients, 16.4 GFLOPs\n",
            "Adding AutoShape... \n",
            "Using cache found in /root/.cache/torch/hub/ultralytics_yolov5_master\n",
            "YOLOv5 🚀 v7.0-304-g22361691 Python-3.10.12 torch-2.2.1+cu121 CPU\n",
            "\n",
            "Fusing layers... \n"
          ]
        },
        {
          "output_type": "stream",
          "name": "stdout",
          "text": [
            "img/95812.png\n"
          ]
        },
        {
          "output_type": "stream",
          "name": "stderr",
          "text": [
            "YOLOv5s summary: 213 layers, 7225885 parameters, 0 gradients, 16.4 GFLOPs\n",
            "Adding AutoShape... \n",
            "Using cache found in /root/.cache/torch/hub/ultralytics_yolov5_master\n",
            "YOLOv5 🚀 v7.0-304-g22361691 Python-3.10.12 torch-2.2.1+cu121 CPU\n",
            "\n",
            "Fusing layers... \n"
          ]
        },
        {
          "output_type": "stream",
          "name": "stdout",
          "text": [
            "img/06418.png\n"
          ]
        },
        {
          "output_type": "stream",
          "name": "stderr",
          "text": [
            "YOLOv5s summary: 213 layers, 7225885 parameters, 0 gradients, 16.4 GFLOPs\n",
            "Adding AutoShape... \n",
            "Using cache found in /root/.cache/torch/hub/ultralytics_yolov5_master\n",
            "YOLOv5 🚀 v7.0-304-g22361691 Python-3.10.12 torch-2.2.1+cu121 CPU\n",
            "\n",
            "Fusing layers... \n"
          ]
        },
        {
          "output_type": "stream",
          "name": "stdout",
          "text": [
            "img/53976.png\n"
          ]
        },
        {
          "output_type": "stream",
          "name": "stderr",
          "text": [
            "YOLOv5s summary: 213 layers, 7225885 parameters, 0 gradients, 16.4 GFLOPs\n",
            "Adding AutoShape... \n",
            "Using cache found in /root/.cache/torch/hub/ultralytics_yolov5_master\n",
            "YOLOv5 🚀 v7.0-304-g22361691 Python-3.10.12 torch-2.2.1+cu121 CPU\n",
            "\n",
            "Fusing layers... \n"
          ]
        },
        {
          "output_type": "stream",
          "name": "stdout",
          "text": [
            "img/70193.png\n"
          ]
        },
        {
          "output_type": "stream",
          "name": "stderr",
          "text": [
            "YOLOv5s summary: 213 layers, 7225885 parameters, 0 gradients, 16.4 GFLOPs\n",
            "Adding AutoShape... \n",
            "Using cache found in /root/.cache/torch/hub/ultralytics_yolov5_master\n",
            "YOLOv5 🚀 v7.0-304-g22361691 Python-3.10.12 torch-2.2.1+cu121 CPU\n",
            "\n",
            "Fusing layers... \n"
          ]
        },
        {
          "output_type": "stream",
          "name": "stdout",
          "text": [
            "img/60427.png\n"
          ]
        },
        {
          "output_type": "stream",
          "name": "stderr",
          "text": [
            "YOLOv5s summary: 213 layers, 7225885 parameters, 0 gradients, 16.4 GFLOPs\n",
            "Adding AutoShape... \n",
            "Using cache found in /root/.cache/torch/hub/ultralytics_yolov5_master\n",
            "YOLOv5 🚀 v7.0-304-g22361691 Python-3.10.12 torch-2.2.1+cu121 CPU\n",
            "\n",
            "Fusing layers... \n"
          ]
        },
        {
          "output_type": "stream",
          "name": "stdout",
          "text": [
            "img/78395.png\n"
          ]
        },
        {
          "output_type": "stream",
          "name": "stderr",
          "text": [
            "YOLOv5s summary: 213 layers, 7225885 parameters, 0 gradients, 16.4 GFLOPs\n",
            "Adding AutoShape... \n",
            "Using cache found in /root/.cache/torch/hub/ultralytics_yolov5_master\n",
            "YOLOv5 🚀 v7.0-304-g22361691 Python-3.10.12 torch-2.2.1+cu121 CPU\n",
            "\n",
            "Fusing layers... \n"
          ]
        },
        {
          "output_type": "stream",
          "name": "stdout",
          "text": [
            "img/04876.png\n"
          ]
        },
        {
          "output_type": "stream",
          "name": "stderr",
          "text": [
            "YOLOv5s summary: 213 layers, 7225885 parameters, 0 gradients, 16.4 GFLOPs\n",
            "Adding AutoShape... \n",
            "Using cache found in /root/.cache/torch/hub/ultralytics_yolov5_master\n",
            "YOLOv5 🚀 v7.0-304-g22361691 Python-3.10.12 torch-2.2.1+cu121 CPU\n",
            "\n"
          ]
        },
        {
          "output_type": "stream",
          "name": "stdout",
          "text": [
            "img/92075.png\n"
          ]
        },
        {
          "output_type": "stream",
          "name": "stderr",
          "text": [
            "Fusing layers... \n",
            "YOLOv5s summary: 213 layers, 7225885 parameters, 0 gradients, 16.4 GFLOPs\n",
            "Adding AutoShape... \n",
            "Using cache found in /root/.cache/torch/hub/ultralytics_yolov5_master\n",
            "YOLOv5 🚀 v7.0-304-g22361691 Python-3.10.12 torch-2.2.1+cu121 CPU\n",
            "\n"
          ]
        },
        {
          "output_type": "stream",
          "name": "stdout",
          "text": [
            "img/86354.png\n"
          ]
        },
        {
          "output_type": "stream",
          "name": "stderr",
          "text": [
            "Fusing layers... \n",
            "YOLOv5s summary: 213 layers, 7225885 parameters, 0 gradients, 16.4 GFLOPs\n",
            "Adding AutoShape... \n",
            "Using cache found in /root/.cache/torch/hub/ultralytics_yolov5_master\n",
            "YOLOv5 🚀 v7.0-304-g22361691 Python-3.10.12 torch-2.2.1+cu121 CPU\n",
            "\n",
            "Fusing layers... \n"
          ]
        },
        {
          "output_type": "stream",
          "name": "stdout",
          "text": [
            "img/74386.png\n"
          ]
        },
        {
          "output_type": "stream",
          "name": "stderr",
          "text": [
            "YOLOv5s summary: 213 layers, 7225885 parameters, 0 gradients, 16.4 GFLOPs\n",
            "Adding AutoShape... \n",
            "Using cache found in /root/.cache/torch/hub/ultralytics_yolov5_master\n",
            "YOLOv5 🚀 v7.0-304-g22361691 Python-3.10.12 torch-2.2.1+cu121 CPU\n",
            "\n",
            "Fusing layers... \n"
          ]
        },
        {
          "output_type": "stream",
          "name": "stdout",
          "text": [
            "img/59613.png\n"
          ]
        },
        {
          "output_type": "stream",
          "name": "stderr",
          "text": [
            "YOLOv5s summary: 213 layers, 7225885 parameters, 0 gradients, 16.4 GFLOPs\n",
            "Adding AutoShape... \n",
            "Using cache found in /root/.cache/torch/hub/ultralytics_yolov5_master\n",
            "YOLOv5 🚀 v7.0-304-g22361691 Python-3.10.12 torch-2.2.1+cu121 CPU\n",
            "\n",
            "Fusing layers... \n"
          ]
        },
        {
          "output_type": "stream",
          "name": "stdout",
          "text": [
            "img/10263.png\n"
          ]
        },
        {
          "output_type": "stream",
          "name": "stderr",
          "text": [
            "YOLOv5s summary: 213 layers, 7225885 parameters, 0 gradients, 16.4 GFLOPs\n",
            "Adding AutoShape... \n",
            "Using cache found in /root/.cache/torch/hub/ultralytics_yolov5_master\n",
            "YOLOv5 🚀 v7.0-304-g22361691 Python-3.10.12 torch-2.2.1+cu121 CPU\n",
            "\n",
            "Fusing layers... \n"
          ]
        },
        {
          "output_type": "stream",
          "name": "stdout",
          "text": [
            "img/48279.png\n"
          ]
        },
        {
          "output_type": "stream",
          "name": "stderr",
          "text": [
            "YOLOv5s summary: 213 layers, 7225885 parameters, 0 gradients, 16.4 GFLOPs\n",
            "Adding AutoShape... \n",
            "Using cache found in /root/.cache/torch/hub/ultralytics_yolov5_master\n",
            "YOLOv5 🚀 v7.0-304-g22361691 Python-3.10.12 torch-2.2.1+cu121 CPU\n",
            "\n",
            "Fusing layers... \n"
          ]
        },
        {
          "output_type": "stream",
          "name": "stdout",
          "text": [
            "img/52610.png\n"
          ]
        },
        {
          "output_type": "stream",
          "name": "stderr",
          "text": [
            "YOLOv5s summary: 213 layers, 7225885 parameters, 0 gradients, 16.4 GFLOPs\n",
            "Adding AutoShape... \n",
            "Using cache found in /root/.cache/torch/hub/ultralytics_yolov5_master\n",
            "YOLOv5 🚀 v7.0-304-g22361691 Python-3.10.12 torch-2.2.1+cu121 CPU\n",
            "\n",
            "Fusing layers... \n"
          ]
        },
        {
          "output_type": "stream",
          "name": "stdout",
          "text": [
            "img/58371.png\n"
          ]
        },
        {
          "output_type": "stream",
          "name": "stderr",
          "text": [
            "YOLOv5s summary: 213 layers, 7225885 parameters, 0 gradients, 16.4 GFLOPs\n",
            "Adding AutoShape... \n",
            "Using cache found in /root/.cache/torch/hub/ultralytics_yolov5_master\n",
            "YOLOv5 🚀 v7.0-304-g22361691 Python-3.10.12 torch-2.2.1+cu121 CPU\n",
            "\n",
            "Fusing layers... \n"
          ]
        },
        {
          "output_type": "stream",
          "name": "stdout",
          "text": [
            "img/27401.png\n"
          ]
        },
        {
          "output_type": "stream",
          "name": "stderr",
          "text": [
            "YOLOv5s summary: 213 layers, 7225885 parameters, 0 gradients, 16.4 GFLOPs\n",
            "Adding AutoShape... \n",
            "Using cache found in /root/.cache/torch/hub/ultralytics_yolov5_master\n",
            "YOLOv5 🚀 v7.0-304-g22361691 Python-3.10.12 torch-2.2.1+cu121 CPU\n",
            "\n",
            "Fusing layers... \n"
          ]
        },
        {
          "output_type": "stream",
          "name": "stdout",
          "text": [
            "img/89574.png\n"
          ]
        },
        {
          "output_type": "stream",
          "name": "stderr",
          "text": [
            "YOLOv5s summary: 213 layers, 7225885 parameters, 0 gradients, 16.4 GFLOPs\n",
            "Adding AutoShape... \n",
            "Using cache found in /root/.cache/torch/hub/ultralytics_yolov5_master\n",
            "YOLOv5 🚀 v7.0-304-g22361691 Python-3.10.12 torch-2.2.1+cu121 CPU\n",
            "\n",
            "Fusing layers... \n"
          ]
        },
        {
          "output_type": "stream",
          "name": "stdout",
          "text": [
            "img/25473.png\n"
          ]
        },
        {
          "output_type": "stream",
          "name": "stderr",
          "text": [
            "YOLOv5s summary: 213 layers, 7225885 parameters, 0 gradients, 16.4 GFLOPs\n",
            "Adding AutoShape... \n",
            "Using cache found in /root/.cache/torch/hub/ultralytics_yolov5_master\n",
            "YOLOv5 🚀 v7.0-304-g22361691 Python-3.10.12 torch-2.2.1+cu121 CPU\n",
            "\n"
          ]
        },
        {
          "output_type": "stream",
          "name": "stdout",
          "text": [
            "img/47913.png\n"
          ]
        },
        {
          "output_type": "stream",
          "name": "stderr",
          "text": [
            "Fusing layers... \n",
            "YOLOv5s summary: 213 layers, 7225885 parameters, 0 gradients, 16.4 GFLOPs\n",
            "Adding AutoShape... \n",
            "Using cache found in /root/.cache/torch/hub/ultralytics_yolov5_master\n",
            "YOLOv5 🚀 v7.0-304-g22361691 Python-3.10.12 torch-2.2.1+cu121 CPU\n",
            "\n"
          ]
        },
        {
          "output_type": "stream",
          "name": "stdout",
          "text": [
            "img/08295.png\n"
          ]
        },
        {
          "output_type": "stream",
          "name": "stderr",
          "text": [
            "Fusing layers... \n",
            "YOLOv5s summary: 213 layers, 7225885 parameters, 0 gradients, 16.4 GFLOPs\n",
            "Adding AutoShape... \n",
            "Using cache found in /root/.cache/torch/hub/ultralytics_yolov5_master\n",
            "YOLOv5 🚀 v7.0-304-g22361691 Python-3.10.12 torch-2.2.1+cu121 CPU\n",
            "\n",
            "Fusing layers... \n"
          ]
        },
        {
          "output_type": "stream",
          "name": "stdout",
          "text": [
            "img/02497.png\n"
          ]
        },
        {
          "output_type": "stream",
          "name": "stderr",
          "text": [
            "YOLOv5s summary: 213 layers, 7225885 parameters, 0 gradients, 16.4 GFLOPs\n",
            "Adding AutoShape... \n",
            "Using cache found in /root/.cache/torch/hub/ultralytics_yolov5_master\n",
            "YOLOv5 🚀 v7.0-304-g22361691 Python-3.10.12 torch-2.2.1+cu121 CPU\n",
            "\n",
            "Fusing layers... \n"
          ]
        },
        {
          "output_type": "stream",
          "name": "stdout",
          "text": [
            "img/90471.png\n"
          ]
        },
        {
          "output_type": "stream",
          "name": "stderr",
          "text": [
            "YOLOv5s summary: 213 layers, 7225885 parameters, 0 gradients, 16.4 GFLOPs\n",
            "Adding AutoShape... \n",
            "Using cache found in /root/.cache/torch/hub/ultralytics_yolov5_master\n",
            "YOLOv5 🚀 v7.0-304-g22361691 Python-3.10.12 torch-2.2.1+cu121 CPU\n",
            "\n",
            "Fusing layers... \n"
          ]
        },
        {
          "output_type": "stream",
          "name": "stdout",
          "text": [
            "img/69357.png\n"
          ]
        },
        {
          "output_type": "stream",
          "name": "stderr",
          "text": [
            "YOLOv5s summary: 213 layers, 7225885 parameters, 0 gradients, 16.4 GFLOPs\n",
            "Adding AutoShape... \n",
            "Using cache found in /root/.cache/torch/hub/ultralytics_yolov5_master\n",
            "YOLOv5 🚀 v7.0-304-g22361691 Python-3.10.12 torch-2.2.1+cu121 CPU\n",
            "\n",
            "Fusing layers... \n"
          ]
        },
        {
          "output_type": "stream",
          "name": "stdout",
          "text": [
            "img/54602.png\n"
          ]
        },
        {
          "output_type": "stream",
          "name": "stderr",
          "text": [
            "YOLOv5s summary: 213 layers, 7225885 parameters, 0 gradients, 16.4 GFLOPs\n",
            "Adding AutoShape... \n",
            "Using cache found in /root/.cache/torch/hub/ultralytics_yolov5_master\n",
            "YOLOv5 🚀 v7.0-304-g22361691 Python-3.10.12 torch-2.2.1+cu121 CPU\n",
            "\n"
          ]
        },
        {
          "output_type": "stream",
          "name": "stdout",
          "text": [
            "img/15320.png\n"
          ]
        },
        {
          "output_type": "stream",
          "name": "stderr",
          "text": [
            "Fusing layers... \n",
            "YOLOv5s summary: 213 layers, 7225885 parameters, 0 gradients, 16.4 GFLOPs\n",
            "Adding AutoShape... \n"
          ]
        },
        {
          "output_type": "stream",
          "name": "stdout",
          "text": [
            "img/63182.png\n"
          ]
        },
        {
          "output_type": "stream",
          "name": "stderr",
          "text": [
            "Using cache found in /root/.cache/torch/hub/ultralytics_yolov5_master\n",
            "YOLOv5 🚀 v7.0-304-g22361691 Python-3.10.12 torch-2.2.1+cu121 CPU\n",
            "\n",
            "Fusing layers... \n",
            "YOLOv5s summary: 213 layers, 7225885 parameters, 0 gradients, 16.4 GFLOPs\n",
            "Adding AutoShape... \n",
            "Using cache found in /root/.cache/torch/hub/ultralytics_yolov5_master\n",
            "YOLOv5 🚀 v7.0-304-g22361691 Python-3.10.12 torch-2.2.1+cu121 CPU\n",
            "\n",
            "Fusing layers... \n"
          ]
        },
        {
          "output_type": "stream",
          "name": "stdout",
          "text": [
            "img/20619.png\n"
          ]
        },
        {
          "output_type": "stream",
          "name": "stderr",
          "text": [
            "YOLOv5s summary: 213 layers, 7225885 parameters, 0 gradients, 16.4 GFLOPs\n",
            "Adding AutoShape... \n",
            "Using cache found in /root/.cache/torch/hub/ultralytics_yolov5_master\n",
            "YOLOv5 🚀 v7.0-304-g22361691 Python-3.10.12 torch-2.2.1+cu121 CPU\n",
            "\n",
            "Fusing layers... \n"
          ]
        },
        {
          "output_type": "stream",
          "name": "stdout",
          "text": [
            "img/82457.png\n"
          ]
        },
        {
          "output_type": "stream",
          "name": "stderr",
          "text": [
            "YOLOv5s summary: 213 layers, 7225885 parameters, 0 gradients, 16.4 GFLOPs\n",
            "Adding AutoShape... \n",
            "Using cache found in /root/.cache/torch/hub/ultralytics_yolov5_master\n",
            "YOLOv5 🚀 v7.0-304-g22361691 Python-3.10.12 torch-2.2.1+cu121 CPU\n",
            "\n"
          ]
        },
        {
          "output_type": "stream",
          "name": "stdout",
          "text": [
            "img/81059.png\n"
          ]
        },
        {
          "output_type": "stream",
          "name": "stderr",
          "text": [
            "Fusing layers... \n",
            "YOLOv5s summary: 213 layers, 7225885 parameters, 0 gradients, 16.4 GFLOPs\n",
            "Adding AutoShape... \n",
            "Using cache found in /root/.cache/torch/hub/ultralytics_yolov5_master\n",
            "YOLOv5 🚀 v7.0-304-g22361691 Python-3.10.12 torch-2.2.1+cu121 CPU\n",
            "\n"
          ]
        },
        {
          "output_type": "stream",
          "name": "stdout",
          "text": [
            "img/42137.png\n"
          ]
        },
        {
          "output_type": "stream",
          "name": "stderr",
          "text": [
            "Fusing layers... \n",
            "YOLOv5s summary: 213 layers, 7225885 parameters, 0 gradients, 16.4 GFLOPs\n",
            "Adding AutoShape... \n",
            "Using cache found in /root/.cache/torch/hub/ultralytics_yolov5_master\n",
            "YOLOv5 🚀 v7.0-304-g22361691 Python-3.10.12 torch-2.2.1+cu121 CPU\n",
            "\n",
            "Fusing layers... \n"
          ]
        },
        {
          "output_type": "stream",
          "name": "stdout",
          "text": [
            "img/74530.png\n"
          ]
        },
        {
          "output_type": "stream",
          "name": "stderr",
          "text": [
            "YOLOv5s summary: 213 layers, 7225885 parameters, 0 gradients, 16.4 GFLOPs\n",
            "Adding AutoShape... \n",
            "Using cache found in /root/.cache/torch/hub/ultralytics_yolov5_master\n",
            "YOLOv5 🚀 v7.0-304-g22361691 Python-3.10.12 torch-2.2.1+cu121 CPU\n",
            "\n",
            "Fusing layers... \n"
          ]
        },
        {
          "output_type": "stream",
          "name": "stdout",
          "text": [
            "img/40832.png\n"
          ]
        },
        {
          "output_type": "stream",
          "name": "stderr",
          "text": [
            "YOLOv5s summary: 213 layers, 7225885 parameters, 0 gradients, 16.4 GFLOPs\n",
            "Adding AutoShape... \n"
          ]
        },
        {
          "output_type": "stream",
          "name": "stdout",
          "text": [
            "img/46127.png\n"
          ]
        },
        {
          "output_type": "stream",
          "name": "stderr",
          "text": [
            "Using cache found in /root/.cache/torch/hub/ultralytics_yolov5_master\n",
            "YOLOv5 🚀 v7.0-304-g22361691 Python-3.10.12 torch-2.2.1+cu121 CPU\n",
            "\n",
            "Fusing layers... \n",
            "YOLOv5s summary: 213 layers, 7225885 parameters, 0 gradients, 16.4 GFLOPs\n",
            "Adding AutoShape... \n",
            "Using cache found in /root/.cache/torch/hub/ultralytics_yolov5_master\n",
            "YOLOv5 🚀 v7.0-304-g22361691 Python-3.10.12 torch-2.2.1+cu121 CPU\n",
            "\n",
            "Fusing layers... \n"
          ]
        },
        {
          "output_type": "stream",
          "name": "stdout",
          "text": [
            "img/87594.png\n"
          ]
        },
        {
          "output_type": "stream",
          "name": "stderr",
          "text": [
            "YOLOv5s summary: 213 layers, 7225885 parameters, 0 gradients, 16.4 GFLOPs\n",
            "Adding AutoShape... \n",
            "Using cache found in /root/.cache/torch/hub/ultralytics_yolov5_master\n",
            "YOLOv5 🚀 v7.0-304-g22361691 Python-3.10.12 torch-2.2.1+cu121 CPU\n",
            "\n",
            "Fusing layers... \n"
          ]
        },
        {
          "output_type": "stream",
          "name": "stdout",
          "text": [
            "img/12548.png\n"
          ]
        },
        {
          "output_type": "stream",
          "name": "stderr",
          "text": [
            "YOLOv5s summary: 213 layers, 7225885 parameters, 0 gradients, 16.4 GFLOPs\n",
            "Adding AutoShape... \n",
            "Using cache found in /root/.cache/torch/hub/ultralytics_yolov5_master\n",
            "YOLOv5 🚀 v7.0-304-g22361691 Python-3.10.12 torch-2.2.1+cu121 CPU\n",
            "\n",
            "Fusing layers... \n"
          ]
        },
        {
          "output_type": "stream",
          "name": "stdout",
          "text": [
            "img/12894.png\n"
          ]
        },
        {
          "output_type": "stream",
          "name": "stderr",
          "text": [
            "YOLOv5s summary: 213 layers, 7225885 parameters, 0 gradients, 16.4 GFLOPs\n",
            "Adding AutoShape... \n",
            "Using cache found in /root/.cache/torch/hub/ultralytics_yolov5_master\n",
            "YOLOv5 🚀 v7.0-304-g22361691 Python-3.10.12 torch-2.2.1+cu121 CPU\n",
            "\n",
            "Fusing layers... \n"
          ]
        },
        {
          "output_type": "stream",
          "name": "stdout",
          "text": [
            "img/02476.png\n"
          ]
        },
        {
          "output_type": "stream",
          "name": "stderr",
          "text": [
            "YOLOv5s summary: 213 layers, 7225885 parameters, 0 gradients, 16.4 GFLOPs\n",
            "Adding AutoShape... \n",
            "Using cache found in /root/.cache/torch/hub/ultralytics_yolov5_master\n",
            "YOLOv5 🚀 v7.0-304-g22361691 Python-3.10.12 torch-2.2.1+cu121 CPU\n",
            "\n",
            "Fusing layers... \n"
          ]
        },
        {
          "output_type": "stream",
          "name": "stdout",
          "text": [
            "img/06937.png\n"
          ]
        },
        {
          "output_type": "stream",
          "name": "stderr",
          "text": [
            "YOLOv5s summary: 213 layers, 7225885 parameters, 0 gradients, 16.4 GFLOPs\n",
            "Adding AutoShape... \n",
            "Using cache found in /root/.cache/torch/hub/ultralytics_yolov5_master\n",
            "YOLOv5 🚀 v7.0-304-g22361691 Python-3.10.12 torch-2.2.1+cu121 CPU\n",
            "\n",
            "Fusing layers... \n"
          ]
        },
        {
          "output_type": "stream",
          "name": "stdout",
          "text": [
            "img/05762.png\n"
          ]
        },
        {
          "output_type": "stream",
          "name": "stderr",
          "text": [
            "YOLOv5s summary: 213 layers, 7225885 parameters, 0 gradients, 16.4 GFLOPs\n",
            "Adding AutoShape... \n",
            "Using cache found in /root/.cache/torch/hub/ultralytics_yolov5_master\n",
            "YOLOv5 🚀 v7.0-304-g22361691 Python-3.10.12 torch-2.2.1+cu121 CPU\n",
            "\n"
          ]
        },
        {
          "output_type": "stream",
          "name": "stdout",
          "text": [
            "img/40259.png\n"
          ]
        },
        {
          "output_type": "stream",
          "name": "stderr",
          "text": [
            "Fusing layers... \n",
            "YOLOv5s summary: 213 layers, 7225885 parameters, 0 gradients, 16.4 GFLOPs\n",
            "Adding AutoShape... \n",
            "Using cache found in /root/.cache/torch/hub/ultralytics_yolov5_master\n",
            "YOLOv5 🚀 v7.0-304-g22361691 Python-3.10.12 torch-2.2.1+cu121 CPU\n",
            "\n"
          ]
        },
        {
          "output_type": "stream",
          "name": "stdout",
          "text": [
            "img/85072.png\n"
          ]
        },
        {
          "output_type": "stream",
          "name": "stderr",
          "text": [
            "Fusing layers... \n",
            "YOLOv5s summary: 213 layers, 7225885 parameters, 0 gradients, 16.4 GFLOPs\n",
            "Adding AutoShape... \n",
            "Using cache found in /root/.cache/torch/hub/ultralytics_yolov5_master\n",
            "YOLOv5 🚀 v7.0-304-g22361691 Python-3.10.12 torch-2.2.1+cu121 CPU\n",
            "\n"
          ]
        },
        {
          "output_type": "stream",
          "name": "stdout",
          "text": [
            "img/46537.png\n"
          ]
        },
        {
          "output_type": "stream",
          "name": "stderr",
          "text": [
            "Fusing layers... \n",
            "YOLOv5s summary: 213 layers, 7225885 parameters, 0 gradients, 16.4 GFLOPs\n",
            "Adding AutoShape... \n",
            "Using cache found in /root/.cache/torch/hub/ultralytics_yolov5_master\n",
            "YOLOv5 🚀 v7.0-304-g22361691 Python-3.10.12 torch-2.2.1+cu121 CPU\n",
            "\n",
            "Fusing layers... \n"
          ]
        },
        {
          "output_type": "stream",
          "name": "stdout",
          "text": [
            "img/56432.png\n"
          ]
        },
        {
          "output_type": "stream",
          "name": "stderr",
          "text": [
            "YOLOv5s summary: 213 layers, 7225885 parameters, 0 gradients, 16.4 GFLOPs\n",
            "Adding AutoShape... \n",
            "Using cache found in /root/.cache/torch/hub/ultralytics_yolov5_master\n",
            "YOLOv5 🚀 v7.0-304-g22361691 Python-3.10.12 torch-2.2.1+cu121 CPU\n",
            "\n",
            "Fusing layers... \n"
          ]
        },
        {
          "output_type": "stream",
          "name": "stdout",
          "text": [
            "img/39805.png\n"
          ]
        },
        {
          "output_type": "stream",
          "name": "stderr",
          "text": [
            "YOLOv5s summary: 213 layers, 7225885 parameters, 0 gradients, 16.4 GFLOPs\n",
            "Adding AutoShape... \n",
            "Using cache found in /root/.cache/torch/hub/ultralytics_yolov5_master\n",
            "YOLOv5 🚀 v7.0-304-g22361691 Python-3.10.12 torch-2.2.1+cu121 CPU\n",
            "\n",
            "Fusing layers... \n"
          ]
        },
        {
          "output_type": "stream",
          "name": "stdout",
          "text": [
            "img/29163.png\n"
          ]
        },
        {
          "output_type": "stream",
          "name": "stderr",
          "text": [
            "YOLOv5s summary: 213 layers, 7225885 parameters, 0 gradients, 16.4 GFLOPs\n",
            "Adding AutoShape... \n",
            "Using cache found in /root/.cache/torch/hub/ultralytics_yolov5_master\n",
            "YOLOv5 🚀 v7.0-304-g22361691 Python-3.10.12 torch-2.2.1+cu121 CPU\n",
            "\n",
            "Fusing layers... \n"
          ]
        },
        {
          "output_type": "stream",
          "name": "stdout",
          "text": [
            "img/36072.png\n"
          ]
        },
        {
          "output_type": "stream",
          "name": "stderr",
          "text": [
            "YOLOv5s summary: 213 layers, 7225885 parameters, 0 gradients, 16.4 GFLOPs\n",
            "Adding AutoShape... \n",
            "Using cache found in /root/.cache/torch/hub/ultralytics_yolov5_master\n",
            "YOLOv5 🚀 v7.0-304-g22361691 Python-3.10.12 torch-2.2.1+cu121 CPU\n",
            "\n",
            "Fusing layers... \n"
          ]
        },
        {
          "output_type": "stream",
          "name": "stdout",
          "text": [
            "img/60147.png\n"
          ]
        },
        {
          "output_type": "stream",
          "name": "stderr",
          "text": [
            "YOLOv5s summary: 213 layers, 7225885 parameters, 0 gradients, 16.4 GFLOPs\n",
            "Adding AutoShape... \n",
            "Using cache found in /root/.cache/torch/hub/ultralytics_yolov5_master\n",
            "YOLOv5 🚀 v7.0-304-g22361691 Python-3.10.12 torch-2.2.1+cu121 CPU\n",
            "\n",
            "Fusing layers... \n"
          ]
        },
        {
          "output_type": "stream",
          "name": "stdout",
          "text": [
            "img/90583.png\n"
          ]
        },
        {
          "output_type": "stream",
          "name": "stderr",
          "text": [
            "YOLOv5s summary: 213 layers, 7225885 parameters, 0 gradients, 16.4 GFLOPs\n",
            "Adding AutoShape... \n",
            "Using cache found in /root/.cache/torch/hub/ultralytics_yolov5_master\n",
            "YOLOv5 🚀 v7.0-304-g22361691 Python-3.10.12 torch-2.2.1+cu121 CPU\n",
            "\n",
            "Fusing layers... \n"
          ]
        },
        {
          "output_type": "stream",
          "name": "stdout",
          "text": [
            "img/38612.png\n"
          ]
        },
        {
          "output_type": "stream",
          "name": "stderr",
          "text": [
            "YOLOv5s summary: 213 layers, 7225885 parameters, 0 gradients, 16.4 GFLOPs\n",
            "Adding AutoShape... \n",
            "Using cache found in /root/.cache/torch/hub/ultralytics_yolov5_master\n",
            "YOLOv5 🚀 v7.0-304-g22361691 Python-3.10.12 torch-2.2.1+cu121 CPU\n",
            "\n",
            "Fusing layers... \n"
          ]
        },
        {
          "output_type": "stream",
          "name": "stdout",
          "text": [
            "img/52097.png\n"
          ]
        },
        {
          "output_type": "stream",
          "name": "stderr",
          "text": [
            "YOLOv5s summary: 213 layers, 7225885 parameters, 0 gradients, 16.4 GFLOPs\n",
            "Adding AutoShape... \n",
            "Using cache found in /root/.cache/torch/hub/ultralytics_yolov5_master\n",
            "YOLOv5 🚀 v7.0-304-g22361691 Python-3.10.12 torch-2.2.1+cu121 CPU\n",
            "\n"
          ]
        },
        {
          "output_type": "stream",
          "name": "stdout",
          "text": [
            "img/34961.png\n"
          ]
        },
        {
          "output_type": "stream",
          "name": "stderr",
          "text": [
            "Fusing layers... \n",
            "YOLOv5s summary: 213 layers, 7225885 parameters, 0 gradients, 16.4 GFLOPs\n",
            "Adding AutoShape... \n",
            "Using cache found in /root/.cache/torch/hub/ultralytics_yolov5_master\n",
            "YOLOv5 🚀 v7.0-304-g22361691 Python-3.10.12 torch-2.2.1+cu121 CPU\n",
            "\n"
          ]
        },
        {
          "output_type": "stream",
          "name": "stdout",
          "text": [
            "img/15803.png\n"
          ]
        },
        {
          "output_type": "stream",
          "name": "stderr",
          "text": [
            "Fusing layers... \n",
            "YOLOv5s summary: 213 layers, 7225885 parameters, 0 gradients, 16.4 GFLOPs\n",
            "Adding AutoShape... \n",
            "Using cache found in /root/.cache/torch/hub/ultralytics_yolov5_master\n",
            "YOLOv5 🚀 v7.0-304-g22361691 Python-3.10.12 torch-2.2.1+cu121 CPU\n",
            "\n",
            "Fusing layers... \n"
          ]
        },
        {
          "output_type": "stream",
          "name": "stdout",
          "text": [
            "img/89762.png\n"
          ]
        },
        {
          "output_type": "stream",
          "name": "stderr",
          "text": [
            "YOLOv5s summary: 213 layers, 7225885 parameters, 0 gradients, 16.4 GFLOPs\n",
            "Adding AutoShape... \n",
            "Using cache found in /root/.cache/torch/hub/ultralytics_yolov5_master\n",
            "YOLOv5 🚀 v7.0-304-g22361691 Python-3.10.12 torch-2.2.1+cu121 CPU\n",
            "\n",
            "Fusing layers... \n"
          ]
        },
        {
          "output_type": "stream",
          "name": "stdout",
          "text": [
            "img/38465.png\n"
          ]
        },
        {
          "output_type": "stream",
          "name": "stderr",
          "text": [
            "YOLOv5s summary: 213 layers, 7225885 parameters, 0 gradients, 16.4 GFLOPs\n",
            "Adding AutoShape... \n",
            "Using cache found in /root/.cache/torch/hub/ultralytics_yolov5_master\n",
            "YOLOv5 🚀 v7.0-304-g22361691 Python-3.10.12 torch-2.2.1+cu121 CPU\n",
            "\n",
            "Fusing layers... \n"
          ]
        },
        {
          "output_type": "stream",
          "name": "stdout",
          "text": [
            "img/53289.png\n"
          ]
        },
        {
          "output_type": "stream",
          "name": "stderr",
          "text": [
            "YOLOv5s summary: 213 layers, 7225885 parameters, 0 gradients, 16.4 GFLOPs\n",
            "Adding AutoShape... \n",
            "Using cache found in /root/.cache/torch/hub/ultralytics_yolov5_master\n",
            "YOLOv5 🚀 v7.0-304-g22361691 Python-3.10.12 torch-2.2.1+cu121 CPU\n",
            "\n",
            "Fusing layers... \n"
          ]
        },
        {
          "output_type": "stream",
          "name": "stdout",
          "text": [
            "img/75321.png\n"
          ]
        },
        {
          "output_type": "stream",
          "name": "stderr",
          "text": [
            "YOLOv5s summary: 213 layers, 7225885 parameters, 0 gradients, 16.4 GFLOPs\n",
            "Adding AutoShape... \n",
            "Using cache found in /root/.cache/torch/hub/ultralytics_yolov5_master\n",
            "YOLOv5 🚀 v7.0-304-g22361691 Python-3.10.12 torch-2.2.1+cu121 CPU\n",
            "\n",
            "Fusing layers... \n"
          ]
        },
        {
          "output_type": "stream",
          "name": "stdout",
          "text": [
            "img/18350.png\n"
          ]
        },
        {
          "output_type": "stream",
          "name": "stderr",
          "text": [
            "YOLOv5s summary: 213 layers, 7225885 parameters, 0 gradients, 16.4 GFLOPs\n",
            "Adding AutoShape... \n",
            "Using cache found in /root/.cache/torch/hub/ultralytics_yolov5_master\n",
            "YOLOv5 🚀 v7.0-304-g22361691 Python-3.10.12 torch-2.2.1+cu121 CPU\n",
            "\n",
            "Fusing layers... \n"
          ]
        },
        {
          "output_type": "stream",
          "name": "stdout",
          "text": [
            "img/91547.png\n"
          ]
        },
        {
          "output_type": "stream",
          "name": "stderr",
          "text": [
            "YOLOv5s summary: 213 layers, 7225885 parameters, 0 gradients, 16.4 GFLOPs\n",
            "Adding AutoShape... \n",
            "Using cache found in /root/.cache/torch/hub/ultralytics_yolov5_master\n",
            "YOLOv5 🚀 v7.0-304-g22361691 Python-3.10.12 torch-2.2.1+cu121 CPU\n",
            "\n",
            "Fusing layers... \n"
          ]
        },
        {
          "output_type": "stream",
          "name": "stdout",
          "text": [
            "img/30247.png\n"
          ]
        },
        {
          "output_type": "stream",
          "name": "stderr",
          "text": [
            "YOLOv5s summary: 213 layers, 7225885 parameters, 0 gradients, 16.4 GFLOPs\n",
            "Adding AutoShape... \n",
            "Using cache found in /root/.cache/torch/hub/ultralytics_yolov5_master\n",
            "YOLOv5 🚀 v7.0-304-g22361691 Python-3.10.12 torch-2.2.1+cu121 CPU\n",
            "\n",
            "Fusing layers... \n"
          ]
        },
        {
          "output_type": "stream",
          "name": "stdout",
          "text": [
            "img/93741.png\n"
          ]
        },
        {
          "output_type": "stream",
          "name": "stderr",
          "text": [
            "YOLOv5s summary: 213 layers, 7225885 parameters, 0 gradients, 16.4 GFLOPs\n",
            "Adding AutoShape... \n",
            "Using cache found in /root/.cache/torch/hub/ultralytics_yolov5_master\n",
            "YOLOv5 🚀 v7.0-304-g22361691 Python-3.10.12 torch-2.2.1+cu121 CPU\n",
            "\n",
            "Fusing layers... \n"
          ]
        },
        {
          "output_type": "stream",
          "name": "stdout",
          "text": [
            "img/51243.png\n"
          ]
        },
        {
          "output_type": "stream",
          "name": "stderr",
          "text": [
            "YOLOv5s summary: 213 layers, 7225885 parameters, 0 gradients, 16.4 GFLOPs\n",
            "Adding AutoShape... \n"
          ]
        },
        {
          "output_type": "stream",
          "name": "stdout",
          "text": [
            "img/05384.png\n"
          ]
        },
        {
          "output_type": "stream",
          "name": "stderr",
          "text": [
            "Using cache found in /root/.cache/torch/hub/ultralytics_yolov5_master\n",
            "YOLOv5 🚀 v7.0-304-g22361691 Python-3.10.12 torch-2.2.1+cu121 CPU\n",
            "\n",
            "Fusing layers... \n",
            "YOLOv5s summary: 213 layers, 7225885 parameters, 0 gradients, 16.4 GFLOPs\n",
            "Adding AutoShape... \n"
          ]
        },
        {
          "output_type": "stream",
          "name": "stdout",
          "text": [
            "{'img/42953.png': {'person': 0.9276723861694336, 'tie': 0.3819580674171448}, 'img/23058.png': {'person': 0.7876327633857727, 'tie': 0.7631468772888184}, 'img/13894.png': {'cat': 0.5780037641525269, 'teddy bear': 0.2833496332168579}, 'img/37408.png': {'dog': 0.9086211323738098}, 'img/82403.png': {'tie': 0.6569203734397888, 'person': 0.4237763583660126}, 'img/16952.png': {'person': 0.8758705854415894}, 'img/76932.png': {'sheep': 0.6209561824798584, 'dog': 0.3322179913520813, 'cow': 0.29274827241897583}, 'img/70914.png': {'person': 0.8947716355323792}, 'img/02973.png': {}, 'img/58306.png': {'person': 0.892308235168457}, 'img/79351.png': {'person': 0.7950466275215149}, 'img/34096.png': {'keyboard': 0.32952630519866943}, 'img/25489.png': {'person': 0.4795769155025482}, 'img/19324.png': {'person': 0.7020153999328613, 'couch': 0.3691366910934448, 'chair': 0.2566676139831543}, 'img/79346.png': {'person': 0.9333345293998718}, 'img/13426.png': {'person': 0.6987683773040771, 'umbrella': 0.6500081419944763, 'kite': 0.40394657850265503}, 'img/97628.png': {'person': 0.6687957644462585, 'couch': 0.4990481436252594, 'bed': 0.3938271701335907}, 'img/14238.png': {'person': 0.8869849443435669}, 'img/28936.png': {'person': 0.4862916171550751, 'chair': 0.3908902406692505, 'couch': 0.3307974338531494}, 'img/59784.png': {'person': 0.8889351487159729, 'bus': 0.7157829403877258}, 'img/02146.png': {'bird': 0.9277166128158569}, 'img/70146.png': {'dog': 0.5554011464118958}, 'img/28061.png': {'person': 0.9116919040679932, 'skateboard': 0.2658471465110779}, 'img/97180.png': {'person': 0.8994751572608948}, 'img/49752.png': {'person': 0.6947100162506104, 'tie': 0.63006991147995, 'cup': 0.2690409719944}, 'img/25610.png': {'person': 0.8635330200195312, 'car': 0.29878902435302734}, 'img/15872.png': {'person': 0.7905565500259399}, 'img/72640.png': {'person': 0.6336566209793091}, 'img/64318.png': {'person': 0.8211095929145813, 'cake': 0.34175905585289}, 'img/17956.png': {'tie': 0.9383966326713562, 'person': 0.6297924518585205}, 'img/93547.png': {'person': 0.8127671480178833}, 'img/10743.png': {'person': 0.9166199564933777, 'umbrella': 0.39531299471855164, 'car': 0.3788386285305023, 'dog': 0.351419061422348}, 'img/37091.png': {'person': 0.8656761646270752, 'bottle': 0.6396914124488831, 'cup': 0.6037946939468384, 'bowl': 0.49349892139434814, 'knife': 0.41680625081062317, 'broccoli': 0.33841195702552795, 'spoon': 0.29993611574172974}, 'img/25719.png': {'person': 0.9030963778495789, 'car': 0.545271635055542, 'potted plant': 0.3164571523666382}, 'img/76825.png': {'person': 0.8617400527000427, 'handbag': 0.3052304983139038}, 'img/72598.png': {'person': 0.8831073641777039, 'chair': 0.5225868821144104}, 'img/43078.png': {'person': 0.7069881558418274, 'book': 0.32125142216682434}, 'img/51846.png': {'bird': 0.6170548796653748}, 'img/01569.png': {'person': 0.8542829751968384, 'potted plant': 0.3682245910167694, 'spoon': 0.30127280950546265, 'bowl': 0.2890475392341614, 'scissors': 0.2600879371166229}, 'img/95812.png': {'person': 0.8391464948654175}, 'img/06418.png': {}, 'img/53976.png': {'person': 0.9041701555252075, 'tie': 0.8292903304100037}, 'img/70193.png': {'person': 0.5446575284004211}, 'img/60427.png': {'cat': 0.7051399350166321}, 'img/78395.png': {'person': 0.8639583587646484, 'tie': 0.8136711716651917, 'tennis racket': 0.3241247534751892, 'spoon': 0.32326701283454895}, 'img/04876.png': {}, 'img/92075.png': {'person': 0.3720627725124359}, 'img/86354.png': {}, 'img/74386.png': {}, 'img/59613.png': {'person': 0.8500411510467529}, 'img/10263.png': {'person': 0.8477706909179688, 'tie': 0.7756178975105286}, 'img/48279.png': {'clock': 0.7952642440795898}, 'img/52610.png': {}, 'img/58371.png': {'person': 0.7619404196739197, 'dog': 0.3322916030883789}, 'img/27401.png': {'person': 0.9157450199127197}, 'img/89574.png': {'person': 0.8136557936668396}, 'img/25473.png': {'person': 0.7518904209136963}, 'img/47913.png': {'person': 0.8767752647399902, 'tie': 0.2853304147720337}, 'img/08295.png': {'person': 0.5425328016281128}, 'img/02497.png': {'person': 0.9167383909225464}, 'img/90471.png': {'person': 0.8673813343048096, 'cup': 0.8478841185569763, 'tie': 0.4364691376686096}, 'img/69357.png': {'person': 0.6658918857574463}, 'img/54602.png': {'person': 0.9001432061195374, 'dog': 0.8194360733032227}, 'img/15320.png': {'person': 0.8939794898033142, 'tie': 0.875678539276123, 'book': 0.388702392578125}, 'img/63182.png': {'surfboard': 0.32065942883491516}, 'img/20619.png': {'person': 0.6127010583877563}, 'img/82457.png': {'person': 0.7621917128562927, 'cell phone': 0.5688126683235168}, 'img/81059.png': {'person': 0.8007566332817078}, 'img/42137.png': {'person': 0.5377828478813171}, 'img/74530.png': {'person': 0.9025264382362366, 'pizza': 0.8410093784332275, 'orange': 0.8332517147064209, 'tie': 0.7441393733024597, 'dining table': 0.6125578880310059, 'chair': 0.25784677267074585, 'knife': 0.2574821412563324}, 'img/40832.png': {'person': 0.9008916616439819}, 'img/46127.png': {'bottle': 0.48053568601608276}, 'img/87594.png': {'teddy bear': 0.41552987694740295}, 'img/12548.png': {'person': 0.6666020154953003}, 'img/12894.png': {'person': 0.7968599200248718}, 'img/02476.png': {'person': 0.8374441266059875}, 'img/06937.png': {'person': 0.8459059000015259}, 'img/05762.png': {'person': 0.5538547039031982}, 'img/40259.png': {'person': 0.6016303300857544, 'bed': 0.4796241819858551}, 'img/85072.png': {'person': 0.7999354600906372}, 'img/46537.png': {'person': 0.8991181254386902}, 'img/56432.png': {'person': 0.7302544713020325}, 'img/39805.png': {'person': 0.636626124382019}, 'img/29163.png': {'person': 0.3653196394443512}, 'img/36072.png': {'cake': 0.3346308469772339}, 'img/60147.png': {'person': 0.4908055365085602}, 'img/90583.png': {'person': 0.5675778985023499}, 'img/38612.png': {'bottle': 0.4793517589569092}, 'img/52097.png': {}, 'img/34961.png': {'cat': 0.6454381346702576}, 'img/15803.png': {'person': 0.8206263184547424}, 'img/89762.png': {'person': 0.5237257480621338}, 'img/38465.png': {'person': 0.6892216801643372}, 'img/53289.png': {'person': 0.8363341093063354, 'banana': 0.5601558685302734, 'sports ball': 0.3847465515136719}, 'img/75321.png': {'person': 0.6558427214622498}, 'img/18350.png': {'person': 0.8063185811042786, 'book': 0.5821266770362854}, 'img/91547.png': {'wine glass': 0.5955419540405273, 'cell phone': 0.536601722240448, 'person': 0.3224779963493347}, 'img/30247.png': {}, 'img/93741.png': {'person': 0.9149406552314758, 'skateboard': 0.314547061920166}, 'img/51243.png': {'person': 0.8534671068191528, 'tie': 0.7960436344146729}, 'img/05384.png': {'person': 0.9356673955917358}}\n",
            "{'img/42953.png': {'person': 0.9312123656272888, 'tie': 0.3942057192325592}, 'img/23058.png': {'tie': 0.7960264682769775, 'person': 0.667485237121582}, 'img/13894.png': {'cat': 0.5631375312805176, 'teddy bear': 0.2833496332168579}, 'img/37408.png': {'dog': 0.9040980935096741}, 'img/82403.png': {'person': 0.6472682952880859, 'tie': 0.5428759455680847}, 'img/16952.png': {'person': 0.8861579895019531}, 'img/76932.png': {'dog': 0.47396987676620483, 'bear': 0.3633219003677368}, 'img/70914.png': {'person': 0.8821805715560913}, 'img/02973.png': {'dog': 0.4825155735015869}, 'img/58306.png': {'person': 0.8942684531211853}, 'img/79351.png': {'person': 0.6746311187744141, 'tie': 0.35908007621765137}, 'img/34096.png': {'remote': 0.3058610260486603}, 'img/25489.png': {'person': 0.5180319547653198}, 'img/19324.png': {'person': 0.6939307451248169, 'potted plant': 0.37586864829063416, 'couch': 0.34663230180740356, 'book': 0.2539445161819458}, 'img/79346.png': {'person': 0.9331716895103455}, 'img/13426.png': {'person': 0.7432284355163574, 'umbrella': 0.6499975323677063, 'kite': 0.4973878860473633}, 'img/97628.png': {'person': 0.6720059514045715, 'couch': 0.5022383332252502, 'bed': 0.39657309651374817}, 'img/14238.png': {'person': 0.9092317223548889, 'fork': 0.2724439203739166}, 'img/28936.png': {'person': 0.47441717982292175, 'chair': 0.38670408725738525, 'couch': 0.3755943775177002}, 'img/59784.png': {'person': 0.9042655229568481, 'bus': 0.6549896001815796, 'traffic light': 0.28698843717575073}, 'img/02146.png': {'bird': 0.9281050562858582}, 'img/70146.png': {'dog': 0.43652093410491943}, 'img/28061.png': {'person': 0.9233245253562927, 'skateboard': 0.33902812004089355}, 'img/97180.png': {'person': 0.8824112415313721, 'tie': 0.27291545271873474}, 'img/49752.png': {'tie': 0.7075579166412354, 'person': 0.5691041350364685}, 'img/25610.png': {'person': 0.857746422290802, 'car': 0.3188471794128418}, 'img/15872.png': {'person': 0.8537063002586365}, 'img/72640.png': {'person': 0.6231409311294556}, 'img/64318.png': {'person': 0.7560327053070068, 'cup': 0.268714964389801}, 'img/17956.png': {'tie': 0.928170919418335, 'person': 0.9087104201316833}, 'img/93547.png': {'person': 0.8923394680023193}, 'img/10743.png': {'person': 0.9190078377723694, 'car': 0.5783812403678894, 'dog': 0.3533708453178406}, 'img/37091.png': {'person': 0.8723006248474121, 'bottle': 0.6396310925483704, 'cup': 0.5799102187156677, 'bowl': 0.521297037601471, 'knife': 0.4047943949699402, 'broccoli': 0.36997613310813904, 'spoon': 0.26399144530296326}, 'img/25719.png': {'person': 0.9033318161964417, 'car': 0.5429291129112244, 'potted plant': 0.3073238730430603}, 'img/76825.png': {'person': 0.8698673844337463, 'handbag': 0.39709362387657166}, 'img/72598.png': {'person': 0.8768908977508545, 'chair': 0.28606483340263367}, 'img/43078.png': {'person': 0.6604705452919006}, 'img/51846.png': {'bird': 0.5995376706123352, 'cat': 0.27999356389045715}, 'img/01569.png': {'person': 0.8980822563171387, 'spoon': 0.4507787823677063, 'potted plant': 0.3588017225265503, 'bowl': 0.2724964916706085}, 'img/95812.png': {'person': 0.8525097370147705}, 'img/06418.png': {}, 'img/53976.png': {'person': 0.9038341641426086, 'tie': 0.8287965655326843}, 'img/70193.png': {'person': 0.6925565004348755}, 'img/60427.png': {'cat': 0.7870569825172424}, 'img/78395.png': {'person': 0.8630809187889099, 'tie': 0.8157274127006531, 'spoon': 0.3536345064640045, 'tennis racket': 0.32413196563720703}, 'img/04876.png': {}, 'img/92075.png': {'person': 0.5729348063468933}, 'img/86354.png': {}, 'img/74386.png': {}, 'img/59613.png': {'person': 0.9338575005531311}, 'img/10263.png': {'person': 0.9201258420944214, 'tie': 0.7233776450157166}, 'img/48279.png': {'clock': 0.799933135509491}, 'img/52610.png': {'kite': 0.5505519509315491}, 'img/58371.png': {'person': 0.7498947381973267, 'dog': 0.3183506429195404}, 'img/27401.png': {'person': 0.9043309688568115, 'tie': 0.3127550780773163, 'chair': 0.29538610577583313}, 'img/89574.png': {'person': 0.9081597924232483}, 'img/25473.png': {'person': 0.7889202833175659}, 'img/47913.png': {'person': 0.9191950559616089}, 'img/08295.png': {'person': 0.5552018880844116}, 'img/02497.png': {'person': 0.9006949067115784}, 'img/90471.png': {'cup': 0.7561178803443909, 'person': 0.7423776388168335, 'bowl': 0.4369868040084839, 'tie': 0.29328763484954834, 'vase': 0.25806689262390137}, 'img/69357.png': {'person': 0.6830319166183472}, 'img/54602.png': {'person': 0.899749219417572, 'dog': 0.8208903670310974}, 'img/15320.png': {'tie': 0.8789000511169434, 'person': 0.8771910667419434}, 'img/63182.png': {}, 'img/20619.png': {'person': 0.6963145136833191}, 'img/82457.png': {'person': 0.8997801542282104, 'cell phone': 0.5449670553207397}, 'img/81059.png': {'person': 0.8665090799331665}, 'img/42137.png': {'person': 0.45761433243751526}, 'img/74530.png': {'person': 0.9113163352012634, 'pizza': 0.8730485439300537, 'orange': 0.8197687864303589, 'tie': 0.6731769442558289, 'dining table': 0.6053590774536133, 'chair': 0.2816792130470276}, 'img/40832.png': {'person': 0.9004022479057312}, 'img/46127.png': {'bottle': 0.5080799460411072}, 'img/87594.png': {'teddy bear': 0.3889350891113281}, 'img/12548.png': {'person': 0.7692076563835144, 'surfboard': 0.4121028780937195}, 'img/12894.png': {'person': 0.8828898072242737}, 'img/02476.png': {'person': 0.8482303619384766}, 'img/06937.png': {'person': 0.8604958653450012}, 'img/05762.png': {'person': 0.8084617853164673, 'banana': 0.2633381187915802}, 'img/40259.png': {'person': 0.6032776832580566, 'bed': 0.46724700927734375}, 'img/85072.png': {'person': 0.7406312227249146}, 'img/46537.png': {'person': 0.8815188407897949}, 'img/56432.png': {'person': 0.8667728900909424}, 'img/39805.png': {'person': 0.6579622626304626}, 'img/29163.png': {'person': 0.5305095911026001}, 'img/36072.png': {'cake': 0.4406024217605591}, 'img/60147.png': {'person': 0.6947827935218811}, 'img/90583.png': {'person': 0.68165123462677}, 'img/38612.png': {'vase': 0.5230894088745117, 'bottle': 0.42724108695983887}, 'img/52097.png': {}, 'img/34961.png': {'cat': 0.5056620836257935}, 'img/15803.png': {'person': 0.8226087093353271}, 'img/89762.png': {'person': 0.634072482585907}, 'img/38465.png': {'person': 0.7963041663169861}, 'img/53289.png': {'person': 0.9231253862380981, 'banana': 0.4937799572944641}, 'img/75321.png': {'person': 0.6654276847839355}, 'img/18350.png': {'person': 0.841170072555542, 'book': 0.5843483805656433}, 'img/91547.png': {'wine glass': 0.6918042302131653, 'person': 0.4703979790210724}, 'img/30247.png': {}, 'img/93741.png': {'person': 0.9053969383239746}, 'img/51243.png': {'person': 0.8711147904396057, 'tie': 0.8429296016693115}, 'img/05384.png': {'person': 0.9356673955917358}}\n"
          ]
        }
      ]
    },
    {
      "cell_type": "code",
      "source": [
        "print(objects_originalImg)"
      ],
      "metadata": {
        "colab": {
          "base_uri": "https://localhost:8080/"
        },
        "id": "6x-LQAqcqc2_",
        "outputId": "00fee667-479e-462a-d8b4-43dd1a3db7c0"
      },
      "execution_count": 33,
      "outputs": [
        {
          "output_type": "stream",
          "name": "stdout",
          "text": [
            "{'img/42953.png': {'person': [0.9276723861694336, 0.5935251116752625], 'tie': [0.3819580674171448]}, 'img/23058.png': {'person': [0.7876327633857727, 0.7232913970947266], 'tie': [0.7631468772888184, 0.34447720646858215]}, 'img/13894.png': {'cat': [0.5780037641525269, 0.5631400942802429], 'teddy bear': [0.2833496332168579]}, 'img/37408.png': {'dog': [0.9086211323738098, 0.7240743041038513]}, 'img/82403.png': {'tie': [0.6569203734397888], 'person': [0.4237763583660126]}, 'img/16952.png': {'person': [0.8758705854415894, 0.7228332161903381, 0.6990550756454468, 0.6774773001670837, 0.6428840160369873, 0.5775291919708252, 0.5010819435119629, 0.39709144830703735, 0.3887737989425659, 0.3258143663406372, 0.28900808095932007, 0.2671947181224823]}, 'img/76932.png': {'sheep': [0.6209561824798584], 'dog': [0.3322179913520813], 'cow': [0.29274827241897583]}, 'img/70914.png': {'person': [0.8947716355323792]}, 'img/02973.png': {}, 'img/58306.png': {'person': [0.892308235168457, 0.7709743976593018, 0.7218695878982544, 0.3027181327342987, 0.25269588828086853]}, 'img/79351.png': {'person': [0.7950466275215149]}, 'img/34096.png': {'keyboard': [0.32952630519866943]}, 'img/25489.png': {'person': [0.4795769155025482]}, 'img/19324.png': {'person': [0.7020153999328613, 0.633184552192688, 0.5921871662139893, 0.5284777879714966, 0.4780067801475525, 0.4028948247432709], 'couch': [0.3691366910934448], 'chair': [0.2566676139831543]}, 'img/79346.png': {'person': [0.9333345293998718, 0.6308396458625793, 0.3782096803188324]}, 'img/13426.png': {'person': [0.6987683773040771, 0.5260021090507507, 0.45447397232055664, 0.4497283399105072, 0.3957124948501587, 0.333781361579895, 0.3105524778366089, 0.3023568093776703, 0.2664470970630646], 'umbrella': [0.6500081419944763], 'kite': [0.40394657850265503]}, 'img/97628.png': {'person': [0.6687957644462585], 'couch': [0.4990481436252594], 'bed': [0.3938271701335907]}, 'img/14238.png': {'person': [0.8869849443435669]}, 'img/28936.png': {'person': [0.4862916171550751], 'chair': [0.3908902406692505], 'couch': [0.3307974338531494]}, 'img/59784.png': {'person': [0.8889351487159729, 0.40893763303756714, 0.33734744787216187], 'bus': [0.7157829403877258]}, 'img/02146.png': {'bird': [0.9277166128158569, 0.9158024191856384, 0.8857688307762146, 0.7639479637145996]}, 'img/70146.png': {'dog': [0.5554011464118958]}, 'img/28061.png': {'person': [0.9116919040679932, 0.7308238744735718], 'skateboard': [0.2658471465110779]}, 'img/97180.png': {'person': [0.8994751572608948, 0.7694714069366455, 0.7565031051635742]}, 'img/49752.png': {'person': [0.6947100162506104], 'tie': [0.63006991147995], 'cup': [0.2690409719944]}, 'img/25610.png': {'person': [0.8635330200195312], 'car': [0.29878902435302734]}, 'img/15872.png': {'person': [0.7905565500259399]}, 'img/72640.png': {'person': [0.6336566209793091]}, 'img/64318.png': {'person': [0.8211095929145813, 0.5820122957229614, 0.2578281760215759], 'cake': [0.34175905585289]}, 'img/17956.png': {'tie': [0.9383966326713562], 'person': [0.6297924518585205]}, 'img/93547.png': {'person': [0.8127671480178833]}, 'img/10743.png': {'person': [0.9166199564933777], 'umbrella': [0.39531299471855164], 'car': [0.3788386285305023, 0.35747629404067993], 'dog': [0.351419061422348]}, 'img/37091.png': {'person': [0.8656761646270752], 'bottle': [0.6396914124488831, 0.48102614283561707, 0.30069461464881897], 'cup': [0.6037946939468384, 0.2776488959789276], 'bowl': [0.49349892139434814], 'knife': [0.41680625081062317], 'broccoli': [0.33841195702552795], 'spoon': [0.29993611574172974]}, 'img/25719.png': {'person': [0.9030963778495789], 'car': [0.545271635055542, 0.36677756905555725], 'potted plant': [0.3164571523666382]}, 'img/76825.png': {'person': [0.8617400527000427, 0.8603309988975525, 0.8397696614265442, 0.7464359402656555, 0.6968896985054016, 0.6409609317779541, 0.5546620488166809, 0.4483151137828827], 'handbag': [0.3052304983139038, 0.2928117513656616]}, 'img/72598.png': {'person': [0.8831073641777039, 0.871252179145813, 0.8684503436088562, 0.7678569555282593, 0.7074179649353027, 0.6723707914352417, 0.5738446712493896, 0.5173666477203369], 'chair': [0.5225868821144104]}, 'img/43078.png': {'person': [0.7069881558418274], 'book': [0.32125142216682434]}, 'img/51846.png': {'bird': [0.6170548796653748]}, 'img/01569.png': {'person': [0.8542829751968384, 0.581909716129303], 'potted plant': [0.3682245910167694], 'spoon': [0.30127280950546265], 'bowl': [0.2890475392341614], 'scissors': [0.2600879371166229]}, 'img/95812.png': {'person': [0.8391464948654175]}, 'img/06418.png': {}, 'img/53976.png': {'person': [0.9041701555252075], 'tie': [0.8292903304100037]}, 'img/70193.png': {'person': [0.5446575284004211, 0.5241295695304871]}, 'img/60427.png': {'cat': [0.7051399350166321]}, 'img/78395.png': {'person': [0.8639583587646484, 0.808302104473114, 0.7545838356018066], 'tie': [0.8136711716651917, 0.5032076239585876], 'tennis racket': [0.3241247534751892], 'spoon': [0.32326701283454895]}, 'img/04876.png': {}, 'img/92075.png': {'person': [0.3720627725124359]}, 'img/86354.png': {}, 'img/74386.png': {}, 'img/59613.png': {'person': [0.8500411510467529]}, 'img/10263.png': {'person': [0.8477706909179688, 0.37481310963630676], 'tie': [0.7756178975105286]}, 'img/48279.png': {'clock': [0.7952642440795898]}, 'img/52610.png': {}, 'img/58371.png': {'person': [0.7619404196739197, 0.6435677409172058], 'dog': [0.3322916030883789]}, 'img/27401.png': {'person': [0.9157450199127197, 0.7899242639541626, 0.6987661719322205, 0.6530638337135315, 0.6428020596504211]}, 'img/89574.png': {'person': [0.8136557936668396]}, 'img/25473.png': {'person': [0.7518904209136963, 0.4700169861316681, 0.379268616437912, 0.25861817598342896]}, 'img/47913.png': {'person': [0.8767752647399902, 0.8321050405502319, 0.5159463286399841, 0.49535465240478516], 'tie': [0.2853304147720337]}, 'img/08295.png': {'person': [0.5425328016281128]}, 'img/02497.png': {'person': [0.9167383909225464]}, 'img/90471.png': {'person': [0.8673813343048096, 0.7565112113952637, 0.7394722700119019, 0.7098740339279175, 0.3879704177379608], 'cup': [0.8478841185569763, 0.4450159966945648, 0.43782663345336914, 0.397924542427063], 'tie': [0.4364691376686096]}, 'img/69357.png': {'person': [0.6658918857574463]}, 'img/54602.png': {'person': [0.9001432061195374, 0.8863525390625, 0.8180887699127197], 'dog': [0.8194360733032227]}, 'img/15320.png': {'person': [0.8939794898033142, 0.5445901155471802], 'tie': [0.875678539276123], 'book': [0.388702392578125]}, 'img/63182.png': {'surfboard': [0.32065942883491516]}, 'img/20619.png': {'person': [0.6127010583877563, 0.3919868767261505]}, 'img/82457.png': {'person': [0.7621917128562927, 0.602253258228302], 'cell phone': [0.5688126683235168]}, 'img/81059.png': {'person': [0.8007566332817078, 0.7819486856460571, 0.6195734739303589, 0.5988235473632812, 0.5981826782226562]}, 'img/42137.png': {'person': [0.5377828478813171]}, 'img/74530.png': {'person': [0.9025264382362366], 'pizza': [0.8410093784332275], 'orange': [0.8332517147064209], 'tie': [0.7441393733024597], 'dining table': [0.6125578880310059], 'chair': [0.25784677267074585], 'knife': [0.2574821412563324]}, 'img/40832.png': {'person': [0.9008916616439819]}, 'img/46127.png': {'bottle': [0.48053568601608276]}, 'img/87594.png': {'teddy bear': [0.41552987694740295]}, 'img/12548.png': {'person': [0.6666020154953003]}, 'img/12894.png': {'person': [0.7968599200248718]}, 'img/02476.png': {'person': [0.8374441266059875]}, 'img/06937.png': {'person': [0.8459059000015259, 0.7806300520896912, 0.734539806842804, 0.7050139904022217, 0.6751534342765808, 0.671057939529419, 0.6576709747314453, 0.6484537720680237, 0.6471141576766968, 0.6304313540458679, 0.5927540063858032, 0.5586719512939453, 0.5295429229736328, 0.49729523062705994, 0.3637949526309967, 0.28417330980300903]}, 'img/05762.png': {'person': [0.5538547039031982]}, 'img/40259.png': {'person': [0.6016303300857544], 'bed': [0.4796241819858551]}, 'img/85072.png': {'person': [0.7999354600906372]}, 'img/46537.png': {'person': [0.8991181254386902, 0.5227996110916138]}, 'img/56432.png': {'person': [0.7302544713020325]}, 'img/39805.png': {'person': [0.636626124382019, 0.5378383994102478, 0.5310894846916199, 0.3869624137878418, 0.2896401286125183]}, 'img/29163.png': {'person': [0.3653196394443512]}, 'img/36072.png': {'cake': [0.3346308469772339]}, 'img/60147.png': {'person': [0.4908055365085602]}, 'img/90583.png': {'person': [0.5675778985023499]}, 'img/38612.png': {'bottle': [0.4793517589569092]}, 'img/52097.png': {}, 'img/34961.png': {'cat': [0.6454381346702576]}, 'img/15803.png': {'person': [0.8206263184547424, 0.7140564918518066]}, 'img/89762.png': {'person': [0.5237257480621338, 0.5059652328491211]}, 'img/38465.png': {'person': [0.6892216801643372]}, 'img/53289.png': {'person': [0.8363341093063354], 'banana': [0.5601558685302734], 'sports ball': [0.3847465515136719]}, 'img/75321.png': {'person': [0.6558427214622498]}, 'img/18350.png': {'person': [0.8063185811042786], 'book': [0.5821266770362854]}, 'img/91547.png': {'wine glass': [0.5955419540405273], 'cell phone': [0.536601722240448], 'person': [0.3224779963493347]}, 'img/30247.png': {}, 'img/93741.png': {'person': [0.9149406552314758], 'skateboard': [0.314547061920166]}, 'img/51243.png': {'person': [0.8534671068191528], 'tie': [0.7960436344146729]}, 'img/05384.png': {'person': [0.9356673955917358, 0.9228523969650269, 0.7625897526741028]}}\n"
          ]
        }
      ]
    },
    {
      "cell_type": "code",
      "source": [
        "len(objects_originalImg)"
      ],
      "metadata": {
        "colab": {
          "base_uri": "https://localhost:8080/"
        },
        "id": "cJ2dM7Zyth88",
        "outputId": "13e77942-e6f6-456e-80d6-77348342d848"
      },
      "execution_count": 34,
      "outputs": [
        {
          "output_type": "execute_result",
          "data": {
            "text/plain": [
              "101"
            ]
          },
          "metadata": {},
          "execution_count": 34
        }
      ]
    }
  ]
}